{
 "cells": [
  {
   "cell_type": "code",
   "execution_count": null,
   "metadata": {},
   "outputs": [],
   "source": [
    "# -*- coding: utf-8 -*-\n",
    "import numpy as np\n",
    "import pandas as pd\n",
    "import os.path\n",
    "\n",
    "# Numpy print full array\n",
    "# np.set_printoptions(threshold=np.inf)\n",
    "\n",
    "# Constants\n",
    "DIRECTORY = \"ntu-ml2018spring-hw2/\"\n",
    "\n",
    "# Parameters\n",
    "norm_column = [0, 10, 78, 79, 80]\n",
    "\n",
    "def extract_feature(x):\n",
    "    column = []\n",
    "    return np.delete(x, column, 1)\n",
    "\n",
    "def get_training_data(original, valid_set_size):\n",
    "    if original:\n",
    "        filename = \"train.csv\"\n",
    "        filepath = DIRECTORY + filename\n",
    "        # TODO\n",
    "    else:\n",
    "        x_filename = \"train_X\"\n",
    "        y_filename = \"train_Y\"\n",
    "        x_filepath = DIRECTORY + x_filename\n",
    "        y_filepath = DIRECTORY + y_filename\n",
    "\n",
    "        if os.path.exists(x_filepath) and os.path.exists(y_filepath):\n",
    "            x = pd.read_csv(x_filepath, dtype=float).as_matrix()\n",
    "            y = pd.read_csv(y_filepath, header=None).as_matrix().flatten()\n",
    "            \n",
    "            if valid_set_size > 0:\n",
    "                x_train = x[:-valid_set_size]\n",
    "                y_train = y[:-valid_set_size]\n",
    "                x_valid = x[-valid_set_size:]\n",
    "                y_valid = y[-valid_set_size:]\n",
    "            else:\n",
    "                x_train = x\n",
    "                y_train = y\n",
    "                x_valid = []\n",
    "                y_valid = []\n",
    "            \n",
    "            return x_train, y_train, x_valid, y_valid\n",
    "        \n",
    "def get_accuracy(y_hypo, y):\n",
    "    return len(y_hypo[y_hypo==y]) / len(y_hypo)\n",
    "    \n",
    "def get_testing_data(original):\n",
    "    if original:\n",
    "        filename = \"test.csv\"\n",
    "        # TODO\n",
    "    else:\n",
    "        filename = \"test_X\"\n",
    "    filepath = DIRECTORY + filename\n",
    "\n",
    "    if os.path.exists(filepath):\n",
    "        x = pd.read_csv(filepath, dtype=float).as_matrix()\n",
    "        return x\n",
    "        \n",
    "def output_prediction(y_test, filename=\"output.csv\"):\n",
    "    arr = [[i+1, int(y_test[i])] for i in range(len(y_test))]\n",
    "    dw = pd.DataFrame(arr, columns = [\"id\", \"label\"])\n",
    "    dw.to_csv(filename, index=False)\n",
    "    \n",
    "def sigmoid(z):\n",
    "    return np.clip(1 / (1 + np.exp(-z)), 1e-10, 1-1e-10)\n",
    "\n",
    "def normalize(x_set, norm_column=[]):\n",
    "    x_all = np.concatenate(x_set, axis=0)\n",
    "    mean = np.mean(x_all, axis=0)\n",
    "    std = np.std(x_all, axis=0)\n",
    "    \n",
    "    for x in x_set:\n",
    "        for column in norm_column:\n",
    "            x[:, column] = np.subtract(x[:, column], mean[column])\n",
    "            x[:, column] = np.true_divide(x[:, column], std[column])\n",
    "            \n",
    "    return x_set"
   ]
  },
  {
   "cell_type": "code",
   "execution_count": null,
   "metadata": {
    "scrolled": true
   },
   "outputs": [],
   "source": [
    "# Get data\n",
    "x_train, y_train, x_valid, y_valid = get_training_data(False, 0)\n",
    "x_test = get_testing_data(False)"
   ]
  },
  {
   "cell_type": "code",
   "execution_count": null,
   "metadata": {},
   "outputs": [],
   "source": [
    "# Feature scaling (normalize)\n",
    "if len(x_valid) > 0:\n",
    "    x_train, x_valid, x_test = normalize([x_train, x_valid, x_test], norm_column)\n",
    "    x_valid = extract_feature(x_valid)\n",
    "else:\n",
    "    x_train, x_test = normalize([x_train, x_test], norm_column)\n",
    "    \n",
    "x_train = extract_feature(x_train)\n",
    "x_test = extract_feature(x_test)"
   ]
  },
  {
   "cell_type": "code",
   "execution_count": null,
   "metadata": {},
   "outputs": [],
   "source": [
    "x_train = np.concatenate((x_train, x_train**2, x_train**3), axis=1)\n",
    "x_valid = np.concatenate((x_valid, x_valid**2, x_valid**3), axis=1)\n",
    "x_test = np.concatenate((x_test, x_test**2, x_test**3), axis=1)"
   ]
  },
  {
   "cell_type": "markdown",
   "metadata": {},
   "source": [
    "### hw2_best"
   ]
  },
  {
   "cell_type": "code",
   "execution_count": null,
   "metadata": {
    "scrolled": false
   },
   "outputs": [],
   "source": [
    "# Keras NN model\n",
    "from keras.utils import to_categorical\n",
    "from keras.models import Sequential\n",
    "from keras.layers.core import Dense, Dropout, Activation\n",
    "from keras.callbacks import EarlyStopping\n",
    "\n",
    "y_train_b =  to_categorical(y_train)\n",
    "y_valid_b = to_categorical(y_valid)\n",
    "\n",
    "model = Sequential()\n",
    "model.add(Dense(input_dim=len(x_train[0]), units=50, activation=\"relu\"))\n",
    "# model.add(Dropout(0.6))\n",
    "# model.add(Dense(units=50, activation=\"relu\"))\n",
    "# model.add(Dropout(0.6))\n",
    "\n",
    "earlyStopping = EarlyStopping(monitor='val_loss', patience=3, verbose=0, mode='auto')\n",
    "\n",
    "model.add(Dense(units=2, activation=\"softmax\"))\n",
    "\n",
    "model.compile(loss=\"binary_crossentropy\", optimizer=\"adam\", metrics=['accuracy'])\n",
    "model.fit(x_train, y_train_b, batch_size=100, epochs=40, callbacks=[earlyStopping], validation_data=(x_valid, y_valid_b))\n",
    "\n",
    "score = model.evaluate(x_valid, y_valid_b)\n",
    "print('Total loss on Testing Set:', score[0])\n",
    "print('Accuracy of Testing Set:', score[1])\n",
    "\n",
    "y_test = model.predict(x_test)\n",
    "prob = np.argmax(y_test, axis=1)\n",
    "output_prediction(prob , \"best.csv\")"
   ]
  },
  {
   "cell_type": "code",
   "execution_count": null,
   "metadata": {},
   "outputs": [],
   "source": [
    "# Support vector classifier (SVC)\n",
    "from sklearn.svm import SVC\n",
    "import pickle\n",
    "\n",
    "svc = SVC(kernel='rbf')\n",
    "svc.fit(x_train, y_train)\n",
    "\n",
    "svc.score(x_train, y_train)\n",
    "\n",
    "y_test_svc = svc.predict(x_test)\n",
    "output_prediction(y_test_svc, \"svc.csv\")"
   ]
  },
  {
   "cell_type": "code",
   "execution_count": null,
   "metadata": {},
   "outputs": [],
   "source": [
    "# with open('svc.pickle', 'wb') as f:\n",
    "#     pickle.dump(svc, f)"
   ]
  }
 ],
 "metadata": {
  "kernelspec": {
   "display_name": "Python 3",
   "language": "python",
   "name": "python3"
  },
  "language_info": {
   "codemirror_mode": {
    "name": "ipython",
    "version": 3
   },
   "file_extension": ".py",
   "mimetype": "text/x-python",
   "name": "python",
   "nbconvert_exporter": "python",
   "pygments_lexer": "ipython3",
   "version": "3.6.4"
  }
 },
 "nbformat": 4,
 "nbformat_minor": 2
}
