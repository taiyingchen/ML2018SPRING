{
 "cells": [
  {
   "cell_type": "code",
   "execution_count": null,
   "metadata": {},
   "outputs": [],
   "source": [
    "# -*- coding: utf-8 -*-\n",
    "import numpy as np\n",
    "import pandas as pd\n",
    "import os.path\n",
    "\n",
    "# Numpy print full array\n",
    "# np.set_printoptions(threshold=np.inf)\n",
    "\n",
    "# Constants\n",
    "DIRECTORY = \"ntu-ml2018spring-hw2/\"\n",
    "\n",
    "# Parameters\n",
    "norm_column = [0, 10, 78, 79, 80]\n",
    "\n",
    "def extract_feature(x):\n",
    "    column = []\n",
    "    return np.delete(x, column, 1)\n",
    "\n",
    "def get_training_data(original, valid_set_size):\n",
    "    if original:\n",
    "        filename = \"train.csv\"\n",
    "        filepath = DIRECTORY + filename\n",
    "        # TODO\n",
    "    else:\n",
    "        x_filename = \"train_X\"\n",
    "        y_filename = \"train_Y\"\n",
    "        x_filepath = DIRECTORY + x_filename\n",
    "        y_filepath = DIRECTORY + y_filename\n",
    "\n",
    "        if os.path.exists(x_filepath) and os.path.exists(y_filepath):\n",
    "            x = pd.read_csv(x_filepath, dtype=float).as_matrix()\n",
    "            y = pd.read_csv(y_filepath, header=None).as_matrix().flatten()\n",
    "            \n",
    "            if valid_set_size > 0:\n",
    "                x_train = x[:-valid_set_size]\n",
    "                y_train = y[:-valid_set_size]\n",
    "                x_valid = x[-valid_set_size:]\n",
    "                y_valid = y[-valid_set_size:]\n",
    "            else:\n",
    "                x_train = x\n",
    "                y_train = y\n",
    "                x_valid = []\n",
    "                y_valid = []\n",
    "            \n",
    "            return x_train, y_train, x_valid, y_valid\n",
    "        \n",
    "def get_accuracy(y_hypo, y):\n",
    "    return len(y_hypo[y_hypo==y]) / len(y_hypo)\n",
    "    \n",
    "def get_testing_data(original):\n",
    "    if original:\n",
    "        filename = \"test.csv\"\n",
    "        # TODO\n",
    "    else:\n",
    "        filename = \"test_X\"\n",
    "    filepath = DIRECTORY + filename\n",
    "\n",
    "    if os.path.exists(filepath):\n",
    "        x = pd.read_csv(filepath, dtype=float).as_matrix()\n",
    "        return x\n",
    "        \n",
    "def output_prediction(y_test, filename=\"output.csv\"):\n",
    "    arr = [[i+1, int(y_test[i])] for i in range(len(y_test))]\n",
    "    dw = pd.DataFrame(arr, columns = [\"id\", \"label\"])\n",
    "    dw.to_csv(filename, index=False)\n",
    "    \n",
    "def sigmoid(z):\n",
    "    return np.clip(1 / (1 + np.exp(-z)), 1e-10, 1-1e-10)\n",
    "\n",
    "def normalize(x_set, norm_column=[]):\n",
    "    x_all = np.concatenate(x_set, axis=0)\n",
    "    mean = np.mean(x_all, axis=0)\n",
    "    std = np.std(x_all, axis=0)\n",
    "    \n",
    "    for x in x_set:\n",
    "        for column in norm_column:\n",
    "            x[:, column] = np.subtract(x[:, column], mean[column])\n",
    "            x[:, column] = np.true_divide(x[:, column], std[column])\n",
    "            \n",
    "    return x_set"
   ]
  },
  {
   "cell_type": "code",
   "execution_count": null,
   "metadata": {
    "scrolled": true
   },
   "outputs": [],
   "source": [
    "# Get data\n",
    "x_train, y_train, x_valid, y_valid = get_training_data(False, 0)\n",
    "x_test = get_testing_data(False)"
   ]
  },
  {
   "cell_type": "code",
   "execution_count": null,
   "metadata": {},
   "outputs": [],
   "source": [
    "# Feature scaling (normalize)\n",
    "if len(x_valid) > 0:\n",
    "    x_train, x_valid, x_test = normalize([x_train, x_valid, x_test], norm_column)\n",
    "    x_valid = extract_feature(x_valid)\n",
    "else:\n",
    "    x_train, x_test = normalize([x_train, x_test], norm_column)\n",
    "    \n",
    "x_train = extract_feature(x_train)\n",
    "x_test = extract_feature(x_test)"
   ]
  },
  {
   "cell_type": "markdown",
   "metadata": {},
   "source": [
    "### hw2_generative"
   ]
  },
  {
   "cell_type": "code",
   "execution_count": null,
   "metadata": {},
   "outputs": [],
   "source": [
    "def get_gaussian(x, y):\n",
    "    mu = [None] * 2\n",
    "    cov = [None] * 2\n",
    "    var = [None] * 2\n",
    "    # Calculate mean\n",
    "    mu[0] = np.mean(x[y==0], axis=0)\n",
    "    mu[1] = np.mean(x[y==1], axis=0)\n",
    "\n",
    "    # Calculate covariance\n",
    "    cov[0] = np.dot((x[y==0] - mu[0]).T, x[y==0] - mu[0])\n",
    "    cov[1] = np.dot((x[y==1] - mu[1]).T, x[y==1] - mu[1])\n",
    "    cov[0] /= len(x[y==0])\n",
    "    cov[1] /= len(x[y==1])\n",
    "\n",
    "    return mu, cov\n",
    "\n",
    "def get_generative_model(x, y):\n",
    "    mu, cov = get_gaussian(x, y)\n",
    "    shared_cov = (len(y[y==0]) * cov[0] + len(y[y==1]) * cov[1]) / len(y)\n",
    "    # Naive bayes\n",
    "    # shared_cov = np.diag(np.diag(shared_cov))\n",
    "    \n",
    "    w = np.dot(mu[0] - mu[1], np.linalg.pinv(shared_cov))\n",
    "    b = ((-0.5) * np.dot(np.dot(mu[0].T, np.linalg.pinv(shared_cov)), mu[0]) +\n",
    "        (0.5) * np.dot(np.dot(mu[1].T, np.linalg.pinv(shared_cov)), mu[1]) +\n",
    "        np.log(len(y[y==0])/len(y[y==1])))\n",
    "    \n",
    "    return w, b\n",
    "\n",
    "def get_prediction(x, w, b):\n",
    "    z = np.dot(x, w) + b\n",
    "    prob = sigmoid(z)\n",
    "    prob = np.round(prob)\n",
    "    prob = 1 - prob\n",
    "    return prob"
   ]
  },
  {
   "cell_type": "code",
   "execution_count": null,
   "metadata": {
    "scrolled": true
   },
   "outputs": [],
   "source": [
    "w, b = get_generative_model(x_train, y_train)\n",
    "prob = get_prediction(x_train, w, b)\n",
    "print(\"accuracy: %f\" % get_accuracy(prob, y_train))"
   ]
  },
  {
   "cell_type": "code",
   "execution_count": null,
   "metadata": {},
   "outputs": [],
   "source": [
    "np.save(\"generative_w\", w)\n",
    "np.save(\"generative_b\", b)"
   ]
  },
  {
   "cell_type": "code",
   "execution_count": null,
   "metadata": {
    "scrolled": true
   },
   "outputs": [],
   "source": [
    "prob = get_prediction(x_test, w, b)\n",
    "output_prediction(prob , \"generative.csv\")"
   ]
  }
 ],
 "metadata": {
  "kernelspec": {
   "display_name": "Python 3",
   "language": "python",
   "name": "python3"
  },
  "language_info": {
   "codemirror_mode": {
    "name": "ipython",
    "version": 3
   },
   "file_extension": ".py",
   "mimetype": "text/x-python",
   "name": "python",
   "nbconvert_exporter": "python",
   "pygments_lexer": "ipython3",
   "version": "3.6.4"
  }
 },
 "nbformat": 4,
 "nbformat_minor": 2
}
