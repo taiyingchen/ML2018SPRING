{
 "cells": [
  {
   "cell_type": "code",
   "execution_count": null,
   "metadata": {},
   "outputs": [],
   "source": [
    "# -*- coding: utf-8 -*-\n",
    "import numpy as np\n",
    "import pandas as pd\n",
    "import os.path\n",
    "\n",
    "# Numpy print full array\n",
    "# np.set_printoptions(threshold=np.inf)\n",
    "\n",
    "# Constants\n",
    "DIRECTORY = \"ntu-ml2018spring-hw2/\"\n",
    "\n",
    "# Parameters\n",
    "norm_column = [0, 10, 78, 79, 80]\n",
    "\n",
    "def extract_feature(x):\n",
    "    column = []\n",
    "    return np.delete(x, column, 1)\n",
    "\n",
    "def get_training_data(original, valid_set_size):\n",
    "    if original:\n",
    "        filename = \"train.csv\"\n",
    "        filepath = DIRECTORY + filename\n",
    "        # TODO\n",
    "    else:\n",
    "        x_filename = \"train_X\"\n",
    "        y_filename = \"train_Y\"\n",
    "        x_filepath = DIRECTORY + x_filename\n",
    "        y_filepath = DIRECTORY + y_filename\n",
    "\n",
    "        if os.path.exists(x_filepath) and os.path.exists(y_filepath):\n",
    "            x = pd.read_csv(x_filepath, dtype=float).as_matrix()\n",
    "            y = pd.read_csv(y_filepath, header=None).as_matrix().flatten()\n",
    "            \n",
    "            if valid_set_size > 0:\n",
    "                x_train = x[:-valid_set_size]\n",
    "                y_train = y[:-valid_set_size]\n",
    "                x_valid = x[-valid_set_size:]\n",
    "                y_valid = y[-valid_set_size:]\n",
    "            else:\n",
    "                x_train = x\n",
    "                y_train = y\n",
    "                x_valid = []\n",
    "                y_valid = []\n",
    "            \n",
    "            return x_train, y_train, x_valid, y_valid\n",
    "        \n",
    "def get_accuracy(y_hypo, y):\n",
    "    return len(y_hypo[y_hypo==y]) / len(y_hypo)\n",
    "    \n",
    "def get_testing_data(original):\n",
    "    if original:\n",
    "        filename = \"test.csv\"\n",
    "        # TODO\n",
    "    else:\n",
    "        filename = \"test_X\"\n",
    "    filepath = DIRECTORY + filename\n",
    "\n",
    "    if os.path.exists(filepath):\n",
    "        x = pd.read_csv(filepath, dtype=float).as_matrix()\n",
    "        return x\n",
    "        \n",
    "def output_prediction(y_test, filename=\"output.csv\"):\n",
    "    arr = [[i+1, int(y_test[i])] for i in range(len(y_test))]\n",
    "    dw = pd.DataFrame(arr, columns = [\"id\", \"label\"])\n",
    "    dw.to_csv(filename, index=False)\n",
    "    \n",
    "def sigmoid(z):\n",
    "    return np.clip(1 / (1 + np.exp(-z)), 1e-10, 1-1e-10)\n",
    "\n",
    "def normalize(x_set, norm_column=[]):\n",
    "    x_all = np.concatenate(x_set, axis=0)\n",
    "    mean = np.mean(x_all, axis=0)\n",
    "    std = np.std(x_all, axis=0)\n",
    "    \n",
    "    for x in x_set:\n",
    "        for column in norm_column:\n",
    "            x[:, column] = np.subtract(x[:, column], mean[column])\n",
    "            x[:, column] = np.true_divide(x[:, column], std[column])\n",
    "            \n",
    "    return x_set"
   ]
  },
  {
   "cell_type": "code",
   "execution_count": null,
   "metadata": {
    "scrolled": true
   },
   "outputs": [],
   "source": [
    "# Get data\n",
    "x_train, y_train, x_valid, y_valid = get_training_data(False, 0)\n",
    "x_test = get_testing_data(False)"
   ]
  },
  {
   "cell_type": "code",
   "execution_count": null,
   "metadata": {},
   "outputs": [],
   "source": [
    "# Feature scaling (normalize)\n",
    "if len(x_valid) > 0:\n",
    "    x_train, x_valid, x_test = normalize([x_train, x_valid, x_test], norm_column)\n",
    "    x_valid = extract_feature(x_valid)\n",
    "else:\n",
    "    x_train, x_test = normalize([x_train, x_test], norm_column)\n",
    "    \n",
    "x_train = extract_feature(x_train)\n",
    "x_test = extract_feature(x_test)"
   ]
  },
  {
   "cell_type": "markdown",
   "metadata": {},
   "source": [
    "### hw2_logistic"
   ]
  },
  {
   "cell_type": "code",
   "execution_count": null,
   "metadata": {
    "scrolled": true
   },
   "outputs": [],
   "source": [
    "w = np.zeros(len(x_train[0]))\n",
    "b = 0\n",
    "w_ada = np.zeros(len(x_train[0]))\n",
    "b_ada = 0\n",
    "iteration = 5000\n",
    "lr = 1\n",
    "ld = 1e-4\n",
    "\n",
    "x_train_t = x_train.T\n",
    "for i in range(iteration):\n",
    "    z = np.dot(x_train, w) + b\n",
    "    y_train_hypo = sigmoid(z)\n",
    "    \n",
    "    w_grad = -np.dot(x_train_t, (y_train - y_train_hypo))\n",
    "    b_grad = np.sum(-(y_train - y_train_hypo))\n",
    "    w_ada += w_grad ** 2\n",
    "    b_ada += b_grad ** 2\n",
    "    \n",
    "    w = w - lr / np.sqrt(w_ada) * w_grad\n",
    "    b = b - lr / np.sqrt(b_ada) * b_grad\n",
    "    \n",
    "    w_ada = (1 - lr * ld) * w_ada\n",
    "\n",
    "    if i % 100 == 0:\n",
    "        x_entropy = -(np.dot(y_train, np.log(y_train_hypo)) + np.dot((1-y_train), np.log(1-y_train_hypo)))\n",
    "        print(\"%i accuracy: %f, cross entropy: %f\" % (i, get_accuracy(np.round(y_train_hypo), y_train), x_entropy))\n"
   ]
  },
  {
   "cell_type": "code",
   "execution_count": null,
   "metadata": {
    "scrolled": true
   },
   "outputs": [],
   "source": [
    "z = np.dot(x_valid, w) + b\n",
    "y_valid_hypo = sigmoid(z)\n",
    "y_valid_hypo = np.round(y_valid_hypo)\n",
    "print(get_accuracy(y_valid_hypo, y_valid))"
   ]
  },
  {
   "cell_type": "code",
   "execution_count": null,
   "metadata": {},
   "outputs": [],
   "source": [
    "z = np.dot(x_test, w) + b\n",
    "y_test_hypo = sigmoid(z)\n",
    "y_test_hypo = np.round(y_test_hypo)\n",
    "output_prediction(y_test_hypo, \"logistic.csv\")"
   ]
  },
  {
   "cell_type": "code",
   "execution_count": null,
   "metadata": {},
   "outputs": [],
   "source": [
    "import matplotlib.pyplot as plt\n",
    "import matplotlib\n",
    "% matplotlib inline\n",
    "\n",
    "font = {'family' : 'normal',\n",
    "        'size'   : 16}\n",
    "\n",
    "matplotlib.rc('font', **font)\n",
    "\n",
    "x = [0, 1e-4, 1e-3, 1e-2, 1e-1, 1e-0]\n",
    "y1 = [0.84805, 0.84829, 0.84793, 0.84338, 0.82360, 0.68283]\n",
    "y2 = [0.85712, 0.85675, 0.85429, 0.85159, 0.83181, 0.68611]\n",
    "\n",
    "plt.figure(figsize=(10, 6))\n",
    "plt.plot(x, y1, label=\"private score\")\n",
    "plt.plot(x, y2, label=\"public score\")\n",
    "plt.xscale('log')\n",
    "plt.xlabel(\"regularization parameter number\")\n",
    "plt.ylabel(\"accuracy (%)\")\n",
    "plt.legend(loc='upper right')\n",
    "plt.show()"
   ]
  }
 ],
 "metadata": {
  "kernelspec": {
   "display_name": "Python 3",
   "language": "python",
   "name": "python3"
  },
  "language_info": {
   "codemirror_mode": {
    "name": "ipython",
    "version": 3
   },
   "file_extension": ".py",
   "mimetype": "text/x-python",
   "name": "python",
   "nbconvert_exporter": "python",
   "pygments_lexer": "ipython3",
   "version": "3.6.4"
  }
 },
 "nbformat": 4,
 "nbformat_minor": 2
}
