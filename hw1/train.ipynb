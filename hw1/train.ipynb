{
 "cells": [
  {
   "cell_type": "code",
   "execution_count": 145,
   "metadata": {},
   "outputs": [],
   "source": [
    "# -*- coding: utf-8 -*-\n",
    "import pandas as pd\n",
    "import numpy as np\n",
    "import random"
   ]
  },
  {
   "cell_type": "code",
   "execution_count": 146,
   "metadata": {},
   "outputs": [],
   "source": [
    "# Constant\n",
    "FEATURE_PER_DAY = 18\n",
    "WINDOW_SIZE = 9\n",
    "FEATURE_NUM = 18 * 9\n",
    "DAY_PER_MONTH = 20"
   ]
  },
  {
   "cell_type": "code",
   "execution_count": 147,
   "metadata": {
    "scrolled": true
   },
   "outputs": [],
   "source": [
    "# Read training data\n",
    "df = pd.read_csv(\"competitions/ml-2018spring-hw1/train.csv\", encoding=\"big5\")\n",
    "\n",
    "# Transform RAINFALL column to number\n",
    "for row in range(10, len(df), FEATURE_PER_DAY):\n",
    "    df.iloc[row, 3:] = pd.to_numeric(df.iloc[row, 3:], errors=\"coerce\")\n",
    "\n",
    "df.fillna(0, inplace=True)"
   ]
  },
  {
   "cell_type": "code",
   "execution_count": 148,
   "metadata": {},
   "outputs": [],
   "source": [
    "# Data preprocessing\n",
    "data = []\n",
    "\n",
    "for i in range(FEATURE_PER_DAY):\n",
    "    data.append([])\n",
    "\n",
    "for index, row in df.iterrows():\n",
    "    for item in range(3, 27):\n",
    "        data[index%FEATURE_PER_DAY].append(row[item])"
   ]
  },
  {
   "cell_type": "code",
   "execution_count": 149,
   "metadata": {},
   "outputs": [],
   "source": [
    "# Store features and labels, concat days to get more training data\n",
    "x_data = []\n",
    "y_data = []\n",
    "\n",
    "# Set validation set\n",
    "x_v_data = []\n",
    "y_v_data = []\n",
    "\n",
    "def validation(data):\n",
    "    for element in data:\n",
    "        if float(element) <= 0:\n",
    "            return False\n",
    "    return True\n",
    "\n",
    "for i in range(len(data[0])):\n",
    "    if i % 480 + WINDOW_SIZE < 480 and validation(data[9][i:i+WINDOW_SIZE+1]):\n",
    "        vec = []\n",
    "        for j in range(FEATURE_PER_DAY):\n",
    "            for element in data[j][i:i+WINDOW_SIZE]:\n",
    "                vec.append(float(element))\n",
    "        vec.insert(0, 1)\n",
    "        if random.randint(1, 10) % 10 == 0:\n",
    "            x_v_data.append(vec)\n",
    "            y_v_data.append(float(data[9][i+WINDOW_SIZE]))\n",
    "        else:  \n",
    "            x_data.append(vec)\n",
    "            y_data.append(float(data[9][i+WINDOW_SIZE]))\n",
    "    \n",
    "x_data = np.array(x_data)\n",
    "y_data = np.array(y_data)\n",
    "\n",
    "x_v_data = np.array(x_v_data)\n",
    "y_v_data = np.array(y_v_data)"
   ]
  },
  {
   "cell_type": "code",
   "execution_count": 150,
   "metadata": {},
   "outputs": [],
   "source": [
    "# Store features and labels, one day 16 training data\n",
    "# x_data = []\n",
    "# y_data = []\n",
    "# ROW_SIZE, COLUMN_SIZE = df.shape\n",
    "\n",
    "# for i in range(0, len(df), FEATURE_PER_DAY):\n",
    "#     j = 3\n",
    "#     while float(df.iloc[i+9, j+WINDOW_SIZE]) > 0 and j + WINDOW_SIZE < COLUMN_SIZE - 1:\n",
    "#         arr = np.array(df.iloc[i:i+FEATURE_PER_DAY, j:j+WINDOW_SIZE], dtype=float)\n",
    "#         arr = np.insert(arr, 0, 1) # x0 for bias\n",
    "#         x_data.append(arr)\n",
    "#         y_data.append(np.array(df.iloc[i+9, j+WINDOW_SIZE], dtype=float))\n",
    "#         j += 1\n",
    "        \n",
    "# x_data = np.array(x_data)\n",
    "# y_data = np.array(y_data)"
   ]
  },
  {
   "cell_type": "code",
   "execution_count": 151,
   "metadata": {},
   "outputs": [],
   "source": [
    "# Initial model\n",
    "theta = np.array([0.0] * (FEATURE_NUM + 1)) # all parameters init to 0\n",
    "lr_ada = np.zeros(FEATURE_NUM + 1)\n",
    "lr = 10\n",
    "iteration = 10000"
   ]
  },
  {
   "cell_type": "code",
   "execution_count": 152,
   "metadata": {},
   "outputs": [],
   "source": [
    "# Start at closed-form point\n",
    "# theta_c = np.linalg.lstsq(x_data, y_data)\n",
    "# theta = np.array(theta_c[0])"
   ]
  },
  {
   "cell_type": "code",
   "execution_count": 153,
   "metadata": {},
   "outputs": [],
   "source": [
    "# Load initial parameters from npy file\n",
    "# theta = np.load(\"theta.npy\")"
   ]
  },
  {
   "cell_type": "code",
   "execution_count": 154,
   "metadata": {
    "scrolled": false
   },
   "outputs": [
    {
     "name": "stderr",
     "output_type": "stream",
     "text": [
      "100%|██████████| 10000/10000 [00:05<00:00, 1714.82it/s]\n"
     ]
    }
   ],
   "source": [
    "# Find the best function, using numpy matrix computation\n",
    "from tqdm import tqdm\n",
    "x_data_t = x_data.transpose()\n",
    "\n",
    "for i in tqdm(range(iteration)):\n",
    "    dot = np.dot(x_data, theta)\n",
    "    loss = y_data - dot\n",
    "    grad = np.dot(x_data_t, loss) * (-2.0)\n",
    "    lr_ada += grad ** 2\n",
    "    theta = theta - lr / np.sqrt(lr_ada) * grad"
   ]
  },
  {
   "cell_type": "code",
   "execution_count": 155,
   "metadata": {
    "scrolled": true
   },
   "outputs": [],
   "source": [
    "# Verify model by compute its error\n",
    "def rmse(x_data, y_data, theta):\n",
    "    cost = (np.dot(x_data, theta) - y_data) ** 2\n",
    "    cost = np.sum(cost) / len(x_data)\n",
    "    return np.sqrt(cost)"
   ]
  },
  {
   "cell_type": "code",
   "execution_count": 156,
   "metadata": {},
   "outputs": [],
   "source": [
    "# Save model to npy file\n",
    "# np.save(\"theta\", theta)"
   ]
  },
  {
   "cell_type": "code",
   "execution_count": 157,
   "metadata": {},
   "outputs": [],
   "source": [
    "# Compute test value\n",
    "dt = pd.read_csv(\"competitions/ml-2018spring-hw1/test.csv\", header=None, encoding=\"big5\")\n",
    "\n",
    "for row in range(10, len(dt), FEATURE_PER_DAY):\n",
    "    dt.iloc[row, 2:] = pd.to_numeric(dt.iloc[row, 2:], errors=\"coerce\")\n",
    "    \n",
    "dt.fillna(0, inplace=True)\n",
    "\n",
    "x_test = []\n",
    "y_test = []\n",
    "TEST_ROW_SIZE, TEST_COLUMN_SIZE = dt.shape\n",
    "\n",
    "for i in range(0, len(dt), FEATURE_PER_DAY):\n",
    "    arr = np.array(dt.iloc[i:i+FEATURE_PER_DAY, TEST_COLUMN_SIZE-WINDOW_SIZE:TEST_COLUMN_SIZE], dtype=float)\n",
    "    arr = np.insert(arr, 0, 1) # x0 for bias\n",
    "    x_test.append(arr)\n",
    "    \n",
    "for i in range(len(x_test)):\n",
    "    y_test.append(np.dot(theta, x_test[i]))\n",
    "\n",
    "# Replace negative value\n",
    "for i in range(len(y_test)):\n",
    "    if y_test[i] < 0:\n",
    "        y_test[i] = 0\n",
    "\n",
    "arr = [[\"id_\" + str(i), y_test[i]] for i in range(len(y_test))]\n",
    "dw = pd.DataFrame(arr, columns = [\"id\", \"value\"])\n",
    "dw.to_csv(\"output.csv\", index=False)"
   ]
  },
  {
   "cell_type": "code",
   "execution_count": 158,
   "metadata": {
    "scrolled": false
   },
   "outputs": [
    {
     "name": "stderr",
     "output_type": "stream",
     "text": [
      "/usr/local/lib/python3.6/site-packages/ipykernel_launcher.py:2: FutureWarning: `rcond` parameter will change to the default of machine precision times ``max(M, N)`` where M and N are the input matrix dimensions.\n",
      "To use the future default and silence this warning we advise to pass `rcond=None`, to keep using the old, explicitly pass `rcond=-1`.\n",
      "  \n"
     ]
    }
   ],
   "source": [
    "# closed-form solution\n",
    "theta_c = np.linalg.lstsq(x_data, y_data)\n",
    "theta_c = np.array(theta_c[0])"
   ]
  },
  {
   "cell_type": "code",
   "execution_count": 159,
   "metadata": {
    "scrolled": true
   },
   "outputs": [
    {
     "name": "stdout",
     "output_type": "stream",
     "text": [
      "Training set:\n",
      "12.608772914400182\n",
      "12.449777159858373\n",
      "Validation set:\n",
      "5.6815592201032254\n",
      "8.885413771256003\n"
     ]
    }
   ],
   "source": [
    "print(\"Training set:\")\n",
    "print(rmse(x_data, y_data, theta))\n",
    "print(rmse(x_data, y_data, theta_c))\n",
    "print(\"Validation set:\")\n",
    "print(rmse(x_v_data, y_v_data, theta))\n",
    "print(rmse(x_v_data, y_v_data, theta_c))"
   ]
  }
 ],
 "metadata": {
  "kernelspec": {
   "display_name": "Python 3",
   "language": "python",
   "name": "python3"
  },
  "language_info": {
   "codemirror_mode": {
    "name": "ipython",
    "version": 3
   },
   "file_extension": ".py",
   "mimetype": "text/x-python",
   "name": "python",
   "nbconvert_exporter": "python",
   "pygments_lexer": "ipython3",
   "version": "3.6.4"
  }
 },
 "nbformat": 4,
 "nbformat_minor": 2
}
