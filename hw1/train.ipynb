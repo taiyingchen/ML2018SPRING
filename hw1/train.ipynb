{
 "cells": [
  {
   "cell_type": "code",
   "execution_count": null,
   "metadata": {},
   "outputs": [],
   "source": [
    "# -*- coding: utf-8 -*-\n",
    "import pandas as pd\n",
    "import numpy as np\n",
    "import random"
   ]
  },
  {
   "cell_type": "code",
   "execution_count": null,
   "metadata": {},
   "outputs": [],
   "source": [
    "# Constant\n",
    "FEATURE_PER_DAY = 18\n",
    "WINDOW_SIZE = 9\n",
    "FEATURE_NUM = 18 * 9\n",
    "DAY_PER_MONTH = 20\n",
    "VALIDATION_SET = False\n",
    "SQUARE_TERM = False\n",
    "REGULARIZATION = False\n",
    "FEATURE_SCALING = False\n",
    "if SQUARE_TERM:\n",
    "    FEATURE_NUM *= 2"
   ]
  },
  {
   "cell_type": "code",
   "execution_count": null,
   "metadata": {
    "scrolled": true
   },
   "outputs": [],
   "source": [
    "# Verify model by compute its error\n",
    "def rmse(x_data, y_data, theta):\n",
    "    cost = (np.dot(x_data, theta) - y_data) ** 2\n",
    "    cost = np.sum(cost) / len(x_data)\n",
    "    return np.sqrt(cost)\n",
    "\n",
    "# Feature scaling\n",
    "def feature_scaling(x_data):\n",
    "    x_data = np.subtract(x_data, np.mean(x_data, axis=0))\n",
    "    x_data = np.divide(x_data, np.std(x_data, axis=0))\n",
    "    x_data = np.nan_to_num(x_data)\n",
    "    return x_data\n",
    "\n",
    "# Validate training data\n",
    "def validation(data):\n",
    "    for element in data:\n",
    "        if float(element) <= 0:\n",
    "            return False\n",
    "    return True"
   ]
  },
  {
   "cell_type": "code",
   "execution_count": null,
   "metadata": {
    "scrolled": true
   },
   "outputs": [],
   "source": [
    "# Read training data\n",
    "df = pd.read_csv(\"ml-2018spring-hw1/train.csv\", encoding=\"big5\")\n",
    "\n",
    "# Transform RAINFALL column to number\n",
    "for row in range(10, len(df), FEATURE_PER_DAY):\n",
    "    df.iloc[row, 3:] = pd.to_numeric(df.iloc[row, 3:], errors=\"coerce\")\n",
    "\n",
    "df.fillna(0, inplace=True)"
   ]
  },
  {
   "cell_type": "code",
   "execution_count": null,
   "metadata": {},
   "outputs": [],
   "source": [
    "# Data preprocessing\n",
    "data = []\n",
    "\n",
    "for i in range(FEATURE_PER_DAY):\n",
    "    data.append([])\n",
    "\n",
    "for index, row in df.iterrows():\n",
    "    for item in range(3, 27):\n",
    "        data[index%FEATURE_PER_DAY].append(row[item])\n",
    "        \n",
    "data = np.array(data)"
   ]
  },
  {
   "cell_type": "code",
   "execution_count": null,
   "metadata": {
    "scrolled": true
   },
   "outputs": [],
   "source": [
    "# Training set\n",
    "x_data = []\n",
    "y_data = []\n",
    "# Validation set\n",
    "x_v_data = []\n",
    "y_v_data = []\n",
    "\n",
    "# Select specific features\n",
    "sieve = [i for i in range(18)]\n",
    "FEATURE_NUM = len(sieve) * WINDOW_SIZE\n",
    "\n",
    "for i in range(len(data[0])):\n",
    "    if i % 480 + WINDOW_SIZE < 480 and validation(data[9][i:i+WINDOW_SIZE+1]):\n",
    "        vec = []\n",
    "        for j in sieve:\n",
    "            for element in data[j][i:i+WINDOW_SIZE]:\n",
    "                vec.append(float(element))\n",
    "        \n",
    "        if VALIDATION_SET and random.randint(1, 10) % 10 == 0:\n",
    "            x_v_data.append(vec)\n",
    "            y_v_data.append(float(data[9][i+WINDOW_SIZE]))\n",
    "        else:  \n",
    "            x_data.append(vec)\n",
    "            y_data.append(float(data[9][i+WINDOW_SIZE]))\n",
    "    \n",
    "x_data = np.array(x_data)\n",
    "y_data = np.array(y_data)\n",
    "\n",
    "if SQUARE_TERM:\n",
    "    x_data = np.concatenate((x_data, x_data**2), axis=1)\n",
    "x_data = np.concatenate((np.ones((x_data.shape[0], 1)), x_data), axis=1)\n",
    "\n",
    "if VALIDATION_SET:\n",
    "    x_v_data = np.array(x_v_data)\n",
    "    y_v_data = np.array(y_v_data)\n",
    "    if SQUARE_TERM:\n",
    "        x_v_data = np.concatenate((x_v_data, x_v_data**2), axis=1)\n",
    "    x_v_data = np.concatenate((np.ones((x_v_data.shape[0], 1)), x_v_data), axis=1)\n",
    "\n",
    "if FEATURE_SCALING:\n",
    "    x_data[:, 1:] = feature_scaling(x_data[:, 1:])\n",
    "    if VALIDATION_SET:\n",
    "        x_v_data[:, 1:] = feature_scaling(x_v_data[:, 1:])"
   ]
  },
  {
   "cell_type": "code",
   "execution_count": null,
   "metadata": {
    "scrolled": false
   },
   "outputs": [],
   "source": [
    "# Closed-form solution\n",
    "theta_c = np.linalg.lstsq(x_data, y_data)\n",
    "theta_c = np.array(theta_c[0])"
   ]
  },
  {
   "cell_type": "code",
   "execution_count": null,
   "metadata": {},
   "outputs": [],
   "source": [
    "# Initial model\n",
    "theta = np.array([0.0] * (FEATURE_NUM + 1)) # all parameters init to 0\n",
    "lr_ada = np.zeros(FEATURE_NUM + 1)\n",
    "lr = 10\n",
    "ld = 0.0001\n",
    "iteration = 15000"
   ]
  },
  {
   "cell_type": "code",
   "execution_count": null,
   "metadata": {
    "scrolled": true
   },
   "outputs": [],
   "source": [
    "# Training\n",
    "x_data_t = x_data.transpose()\n",
    "\n",
    "for i in range(iteration):\n",
    "    dot = np.dot(x_data, theta)\n",
    "    loss = y_data - dot\n",
    "    grad = np.dot(x_data_t, loss) * (-2.0)\n",
    "    lr_ada += grad ** 2\n",
    "    theta = theta - lr / np.sqrt(lr_ada) * grad\n",
    "    if REGULARIZATION:\n",
    "        # Don't need to consider bias term\n",
    "        theta[1:] = (1 - lr * ld) * theta[1:]"
   ]
  },
  {
   "cell_type": "code",
   "execution_count": null,
   "metadata": {},
   "outputs": [],
   "source": [
    "# Save model to npy file\n",
    "np.save(\"theta\", theta)"
   ]
  },
  {
   "cell_type": "code",
   "execution_count": null,
   "metadata": {},
   "outputs": [],
   "source": [
    "# Compute test value\n",
    "dt = pd.read_csv(\"ml-2018spring-hw1/test.csv\", header=None, encoding=\"big5\")\n",
    "\n",
    "for row in range(10, len(dt), FEATURE_PER_DAY):\n",
    "    dt.iloc[row, 2:] = pd.to_numeric(dt.iloc[row, 2:], errors=\"coerce\")\n",
    "    \n",
    "dt.fillna(0, inplace=True)\n",
    "\n",
    "x_test = []\n",
    "y_test = []\n",
    "TEST_ROW_SIZE, TEST_COLUMN_SIZE = dt.shape\n",
    "\n",
    "for i in range(0, len(dt), FEATURE_PER_DAY):\n",
    "    vec = []\n",
    "    for j in sieve:\n",
    "        for element in dt.iloc[j+i][2:]:\n",
    "            vec.append(float(element))\n",
    "    if SQUARE_TERM:\n",
    "        arr = np.concatenate((arr, arr**2)) # Add x^2 terms\n",
    "    vec = np.insert(vec, 0, 1) # x0 for bias\n",
    "    x_test.append(vec)\n",
    "x_test = np.array(x_test)\n",
    "    \n",
    "if FEATURE_SCALING:\n",
    "    x_test[:, 1:] = feature_scaling(x_test[:, 1:])\n",
    "    \n",
    "for i in range(len(x_test)):\n",
    "    y_test.append(np.dot(theta, x_test[i]))\n",
    "\n",
    "# Replace negative value\n",
    "for i in range(len(y_test)):\n",
    "    if y_test[i] < 0:\n",
    "        y_test[i] = 0\n",
    "\n",
    "arr = [[\"id_\" + str(i), y_test[i]] for i in range(len(y_test))]\n",
    "dw = pd.DataFrame(arr, columns = [\"id\", \"value\"])\n",
    "dw.to_csv(\"output.csv\", index=False)"
   ]
  },
  {
   "cell_type": "code",
   "execution_count": null,
   "metadata": {},
   "outputs": [],
   "source": [
    "print(\"Training set:\")\n",
    "print(\"gd: %f\" % rmse(x_data, y_data, theta))\n",
    "print(\"cf: %f\" % rmse(x_data, y_data, theta_c))\n",
    "if VALIDATION_SET:\n",
    "    print(\"Validation set:\")\n",
    "    print(\"gd: %f\" % rmse(x_v_data, y_v_data, theta))\n",
    "    print(\"cf: %f\" % rmse(x_v_data, y_v_data, theta_c))"
   ]
  }
 ],
 "metadata": {
  "kernelspec": {
   "display_name": "Python 3",
   "language": "python",
   "name": "python3"
  },
  "language_info": {
   "codemirror_mode": {
    "name": "ipython",
    "version": 3
   },
   "file_extension": ".py",
   "mimetype": "text/x-python",
   "name": "python",
   "nbconvert_exporter": "python",
   "pygments_lexer": "ipython3",
   "version": "3.6.4"
  }
 },
 "nbformat": 4,
 "nbformat_minor": 2
}
