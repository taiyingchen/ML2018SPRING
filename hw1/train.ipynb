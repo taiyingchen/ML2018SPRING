{
 "cells": [
  {
   "cell_type": "code",
   "execution_count": 1,
   "metadata": {},
   "outputs": [],
   "source": [
    "FEATURE_PER_DAY = 18\n",
    "WINDOW_SIZE = 9\n",
    "FEATURE_NUM = 18 * 9"
   ]
  },
  {
   "cell_type": "code",
   "execution_count": 2,
   "metadata": {
    "scrolled": true
   },
   "outputs": [],
   "source": [
    "# -*- coding: utf-8 -*-\n",
    "import pandas as pd\n",
    "import numpy as np\n",
    "import random\n",
    "\n",
    "df = pd.read_csv(\"competitions/ml-2018spring-hw1/train.csv\", encoding=\"big5\")\n",
    "\n",
    "for row in np.arange(10, len(df), FEATURE_PER_DAY):\n",
    "    df.iloc[row, 3:] = pd.to_numeric(df.iloc[row, 3:], errors=\"coerce\")\n",
    "\n",
    "df.fillna(0, inplace=True)"
   ]
  },
  {
   "cell_type": "code",
   "execution_count": 3,
   "metadata": {},
   "outputs": [],
   "source": [
    "x_data = []\n",
    "y_data = []\n",
    "\n",
    "for i in np.arange(0, len(df), FEATURE_PER_DAY):\n",
    "    arr = np.array(df.iloc[i:i+FEATURE_PER_DAY, 3:3+WINDOW_SIZE], dtype=float)\n",
    "    arr = np.insert(arr, 0, 1) # x0 for bias\n",
    "    x_data.append(arr)\n",
    "    y_data.append(np.array(df.iloc[i+9, 3+WINDOW_SIZE], dtype=float))"
   ]
  },
  {
   "cell_type": "code",
   "execution_count": 4,
   "metadata": {},
   "outputs": [
    {
     "data": {
      "text/plain": [
       "array([  1.  ,  14.  ,  13.  ,  13.  ,  12.  ,  12.  ,  12.  ,  12.  ,\n",
       "        12.  ,  14.  ,   1.9 ,   1.9 ,   2.1 ,   2.1 ,   2.2 ,   2.2 ,\n",
       "         2.2 ,   2.1 ,   2.  ,   1.16,   1.  ,   1.09,   1.18,   1.01,\n",
       "         1.  ,   1.15,   1.33,   1.36,   0.7 ,   0.59,   0.66,   0.65,\n",
       "         0.52,   0.5 ,   0.58,   0.66,   0.61,  17.  ,   8.8 ,  14.  ,\n",
       "        33.  ,  26.  ,  21.  ,  34.  ,  38.  ,  37.  ,  31.  ,  29.  ,\n",
       "        26.  ,  25.  ,  23.  ,  21.  ,  20.  ,  22.  ,  30.  ,  47.  ,\n",
       "        38.  ,  41.  ,  57.  ,  49.  ,  41.  ,  54.  ,  61.  ,  67.  ,\n",
       "         2.4 ,   3.  ,   2.6 ,   2.3 ,   2.1 ,   2.3 ,   2.5 ,   3.4 ,\n",
       "         7.1 ,  91.  , 104.  ,  87.  ,  91.  ,  83.  ,  76.  ,  73.  ,\n",
       "        66.  ,  88.  ,  58.  ,  59.  ,  57.  ,  59.  ,  64.  ,  64.  ,\n",
       "        60.  ,  55.  ,  54.  ,   0.  ,   0.  ,   0.  ,   0.  ,   0.  ,\n",
       "         0.  ,   0.  ,   0.  ,   0.  ,  79.  ,  79.  ,  80.  ,  83.  ,\n",
       "        83.  ,  83.  ,  82.  ,  83.  ,  79.  ,   3.4 ,   3.6 ,   2.7 ,\n",
       "         2.9 ,   2.9 ,   2.4 ,   2.7 ,   4.1 ,   5.4 ,   2.6 ,   2.5 ,\n",
       "         2.8 ,   2.8 ,   2.7 ,   2.8 ,   2.8 ,   2.7 ,   2.6 , 146.  ,\n",
       "       110.  , 183.  , 234.  , 178.  , 143.  , 247.  , 200.  , 175.  ,\n",
       "       133.  , 136.  , 248.  , 187.  , 163.  ,  22.  , 257.  , 173.  ,\n",
       "       181.  ,   1.  ,   0.5 ,   1.  ,   0.5 ,   0.5 ,   0.5 ,   1.1 ,\n",
       "         0.7 ,   0.9 ,   0.7 ,   0.8 ,   0.5 ,   0.5 ,   0.5 ,   0.3 ,\n",
       "         0.4 ,   0.5 ,   0.8 ])"
      ]
     },
     "execution_count": 4,
     "metadata": {},
     "output_type": "execute_result"
    }
   ],
   "source": [
    "x_data[0]"
   ]
  },
  {
   "cell_type": "code",
   "execution_count": 5,
   "metadata": {},
   "outputs": [],
   "source": [
    "# Step 1: Model\n",
    "# Loss function L(f) = sum of (y - f)^2\n",
    "theta = np.array([0.0] * (FEATURE_NUM + 1)) # all parameters init to 1\n",
    "# for i in range(len(theta)):\n",
    "#     theta[i] = random.randint(0, 99)\n",
    "lr = 0.001\n",
    "iteration = 10000\n",
    "\n",
    "lr_ada = np.zeros(FEATURE_NUM + 1)"
   ]
  },
  {
   "cell_type": "code",
   "execution_count": null,
   "metadata": {},
   "outputs": [],
   "source": [
    "theta = np.load('theta.npy')"
   ]
  },
  {
   "cell_type": "code",
   "execution_count": null,
   "metadata": {
    "scrolled": false
   },
   "outputs": [
    {
     "name": "stderr",
     "output_type": "stream",
     "text": [
      " 99%|█████████▊| 9853/10000 [12:40<00:11, 12.96it/s]"
     ]
    }
   ],
   "source": [
    "from tqdm import tqdm\n",
    "\n",
    "for i in tqdm(range(iteration)):\n",
    "    grad = np.zeros(FEATURE_NUM + 1)\n",
    "    \n",
    "    for n in range(len(x_data)):\n",
    "        dot = np.dot(theta, x_data[n])\n",
    "        for f in range(len(grad)):\n",
    "            grad[f] = grad[f] - 2.0 * (y_data[n] - dot) * x_data[n][f]\n",
    "    \n",
    "    for f in range(len(grad)):\n",
    "        lr_ada[f] = lr_ada[f] + grad[f] ** 2\n",
    "\n",
    "    for index in range(len(theta)):\n",
    "        theta[index] = theta[index] - lr / np.sqrt(lr_ada[index]) * grad[index]"
   ]
  },
  {
   "cell_type": "code",
   "execution_count": null,
   "metadata": {},
   "outputs": [],
   "source": [
    "print(grad)"
   ]
  },
  {
   "cell_type": "code",
   "execution_count": null,
   "metadata": {
    "scrolled": true
   },
   "outputs": [],
   "source": [
    "def computeCost(x_data, y_data, theta):\n",
    "    cost = 0.0\n",
    "    for i in range(len(x_data)):\n",
    "        cost += (np.dot(theta, x_data[i]) - y_data[i]) ** 2\n",
    "    return cost"
   ]
  },
  {
   "cell_type": "code",
   "execution_count": null,
   "metadata": {},
   "outputs": [],
   "source": [
    "record = [16895.726658446325]"
   ]
  },
  {
   "cell_type": "code",
   "execution_count": null,
   "metadata": {
    "scrolled": true
   },
   "outputs": [],
   "source": [
    "record.append(computeCost(x_data, y_data, theta))\n",
    "print(record)"
   ]
  },
  {
   "cell_type": "code",
   "execution_count": null,
   "metadata": {},
   "outputs": [],
   "source": [
    "for i in range(len(x_data)):\n",
    "    print(np.dot(theta, x_data[i]), y_data[i])"
   ]
  },
  {
   "cell_type": "code",
   "execution_count": null,
   "metadata": {},
   "outputs": [],
   "source": [
    "np.save('theta', theta)"
   ]
  },
  {
   "cell_type": "code",
   "execution_count": null,
   "metadata": {},
   "outputs": [],
   "source": [
    "dt = pd.read_csv(\"competitions/ml-2018spring-hw1/test.csv\", header=None, encoding=\"big5\")\n",
    "\n",
    "for row in np.arange(10, len(dt), FEATURE_PER_DAY):\n",
    "    dt.iloc[row, 2:] = pd.to_numeric(dt.iloc[row, 2:], errors=\"coerce\")\n",
    "    \n",
    "dt.fillna(0, inplace=True)"
   ]
  },
  {
   "cell_type": "code",
   "execution_count": null,
   "metadata": {},
   "outputs": [],
   "source": [
    "x_test = []\n",
    "y_test = []\n",
    "\n",
    "for i in np.arange(0, len(dt), FEATURE_PER_DAY):\n",
    "    arr = np.array(dt.iloc[i:i+FEATURE_PER_DAY, 2:2+WINDOW_SIZE], dtype=float)\n",
    "    arr = np.insert(arr, 0, 1) # x0 for bias\n",
    "    x_test.append(arr)\n",
    "    \n",
    "for i in range(len(x_test)):\n",
    "    y_test.append(np.dot(theta, x_test[i]))"
   ]
  },
  {
   "cell_type": "code",
   "execution_count": null,
   "metadata": {},
   "outputs": [],
   "source": [
    "for i in range(len(y_test)):\n",
    "    if (y_test[i] < 0):\n",
    "        y_test[i] = 0"
   ]
  },
  {
   "cell_type": "code",
   "execution_count": null,
   "metadata": {},
   "outputs": [],
   "source": [
    "arr = [[\"id_\" + str(i), y_test[i]] for i in range(len(y_test))]\n",
    "dw = pd.DataFrame(arr, columns = [\"id\", \"value\"])\n",
    "dw.to_csv(\"output.csv\", index=False)"
   ]
  }
 ],
 "metadata": {
  "kernelspec": {
   "display_name": "Python 3",
   "language": "python",
   "name": "python3"
  },
  "language_info": {
   "codemirror_mode": {
    "name": "ipython",
    "version": 3
   },
   "file_extension": ".py",
   "mimetype": "text/x-python",
   "name": "python",
   "nbconvert_exporter": "python",
   "pygments_lexer": "ipython3",
   "version": "3.6.4"
  }
 },
 "nbformat": 4,
 "nbformat_minor": 2
}
