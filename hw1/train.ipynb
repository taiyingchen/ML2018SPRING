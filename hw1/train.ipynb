{
 "cells": [
  {
   "cell_type": "code",
   "execution_count": 87,
   "metadata": {},
   "outputs": [],
   "source": [
    "FEATURE_PER_DAY = 18\n",
    "WINDOW_SIZE = 9\n",
    "FEATURE_NUM = 18 * 9"
   ]
  },
  {
   "cell_type": "code",
   "execution_count": 88,
   "metadata": {
    "scrolled": true
   },
   "outputs": [],
   "source": [
    "# -*- coding: utf-8 -*-\n",
    "import pandas as pd\n",
    "import numpy as np\n",
    "\n",
    "df = pd.read_csv(\"competitions/ml-2018spring-hw1/train.csv\", encoding=\"big5\")\n",
    "\n",
    "# transform RAINFALL column to number\n",
    "for row in np.arange(10, len(df), FEATURE_PER_DAY):\n",
    "    df.iloc[row, 3:] = pd.to_numeric(df.iloc[row, 3:], errors=\"coerce\")\n",
    "\n",
    "df.fillna(0, inplace=True)"
   ]
  },
  {
   "cell_type": "code",
   "execution_count": 89,
   "metadata": {},
   "outputs": [],
   "source": [
    "x_data = []\n",
    "y_data = []\n",
    "ROW_SIZE, COLUMN_SIZE = df.shape\n",
    "\n",
    "for i in np.arange(0, len(df), FEATURE_PER_DAY):\n",
    "    j = 3\n",
    "    while float(df.iloc[i+9, j+WINDOW_SIZE]) > 0 and j + WINDOW_SIZE < COLUMN_SIZE - 1:\n",
    "        arr = np.array(df.iloc[i:i+FEATURE_PER_DAY, j:j+WINDOW_SIZE], dtype=float)\n",
    "        arr = np.insert(arr, 0, 1) # x0 for bias\n",
    "        x_data.append(arr)\n",
    "        y_data.append(np.array(df.iloc[i+9, j+WINDOW_SIZE], dtype=float))\n",
    "        j += 1"
   ]
  },
  {
   "cell_type": "code",
   "execution_count": 90,
   "metadata": {},
   "outputs": [],
   "source": [
    "# Step 1: Model\n",
    "theta = np.array([0.0] * (FEATURE_NUM + 1)) # all parameters init to 1\n",
    "lr = 1\n",
    "iteration = 10000\n",
    "\n",
    "lr_ada = np.zeros(FEATURE_NUM + 1)"
   ]
  },
  {
   "cell_type": "code",
   "execution_count": 91,
   "metadata": {},
   "outputs": [],
   "source": [
    "# Load initial parameters from npy file\n",
    "# theta = np.load('theta.npy')"
   ]
  },
  {
   "cell_type": "code",
   "execution_count": 92,
   "metadata": {
    "scrolled": false
   },
   "outputs": [
    {
     "name": "stderr",
     "output_type": "stream",
     "text": [
      "100%|██████████| 10000/10000 [2:08:07<00:00,  1.30it/s] \n"
     ]
    }
   ],
   "source": [
    "# Step 2: Find the best function from function set\n",
    "from tqdm import tqdm\n",
    "\n",
    "for i in tqdm(range(iteration)):\n",
    "    grad = np.zeros(FEATURE_NUM + 1)\n",
    "    \n",
    "    for n in range(len(x_data)):\n",
    "        dot = np.dot(theta, x_data[n])\n",
    "        for f in range(len(grad)):\n",
    "            grad[f] = grad[f] - 2.0 * (y_data[n] - dot) * x_data[n][f]\n",
    "    \n",
    "    for f in range(len(grad)):\n",
    "        lr_ada[f] = lr_ada[f] + grad[f] ** 2\n",
    "\n",
    "    for index in range(len(theta)):\n",
    "        theta[index] = theta[index] - lr / np.sqrt(lr_ada[index]) * grad[index]"
   ]
  },
  {
   "cell_type": "code",
   "execution_count": 94,
   "metadata": {
    "scrolled": true
   },
   "outputs": [],
   "source": [
    "# Verify model by compute its error\n",
    "def computeCost(x_data, y_data, theta):\n",
    "    cost = 0.0\n",
    "    for i in range(len(x_data)):\n",
    "        cost += (np.dot(theta, x_data[i]) - y_data[i]) ** 2\n",
    "    return cost"
   ]
  },
  {
   "cell_type": "code",
   "execution_count": 98,
   "metadata": {},
   "outputs": [],
   "source": [
    "# Save model to npy file\n",
    "np.save('theta', theta)"
   ]
  },
  {
   "cell_type": "code",
   "execution_count": 103,
   "metadata": {},
   "outputs": [],
   "source": [
    "# Compute test value\n",
    "dt = pd.read_csv(\"competitions/ml-2018spring-hw1/test.csv\", header=None, encoding=\"big5\")\n",
    "\n",
    "for row in np.arange(10, len(dt), FEATURE_PER_DAY):\n",
    "    dt.iloc[row, 2:] = pd.to_numeric(dt.iloc[row, 2:], errors=\"coerce\")\n",
    "    \n",
    "dt.fillna(0, inplace=True)\n",
    "\n",
    "x_test = []\n",
    "y_test = []\n",
    "\n",
    "for i in np.arange(0, len(dt), FEATURE_PER_DAY):\n",
    "    arr = np.array(dt.iloc[i:i+FEATURE_PER_DAY, 2:2+WINDOW_SIZE], dtype=float)\n",
    "    arr = np.insert(arr, 0, 1) # x0 for bias\n",
    "    x_test.append(arr)\n",
    "    \n",
    "for i in range(len(x_test)):\n",
    "    y_test.append(np.dot(theta, x_test[i]))\n",
    "\n",
    "# Replace negative value\n",
    "for i in range(len(y_test)):\n",
    "    if (y_test[i] < 0):\n",
    "        y_test[i] = 0\n",
    "\n",
    "arr = [[\"id_\" + str(i), y_test[i]] for i in range(len(y_test))]\n",
    "dw = pd.DataFrame(arr, columns = [\"id\", \"value\"])\n",
    "dw.to_csv(\"output.csv\", index=False)"
   ]
  }
 ],
 "metadata": {
  "kernelspec": {
   "display_name": "Python 3",
   "language": "python",
   "name": "python3"
  },
  "language_info": {
   "codemirror_mode": {
    "name": "ipython",
    "version": 3
   },
   "file_extension": ".py",
   "mimetype": "text/x-python",
   "name": "python",
   "nbconvert_exporter": "python",
   "pygments_lexer": "ipython3",
   "version": "3.5.2"
  }
 },
 "nbformat": 4,
 "nbformat_minor": 2
}
