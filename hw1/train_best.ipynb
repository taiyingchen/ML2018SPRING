{
 "cells": [
  {
   "cell_type": "code",
   "execution_count": null,
   "metadata": {},
   "outputs": [],
   "source": [
    "# -*- coding: utf-8 -*-\n",
    "import pandas as pd\n",
    "import numpy as np\n",
    "import random"
   ]
  },
  {
   "cell_type": "code",
   "execution_count": null,
   "metadata": {},
   "outputs": [],
   "source": [
    "# Constant\n",
    "FEATURE_PER_DAY = 18\n",
    "WINDOW_SIZE = 9\n",
    "FEATURE_NUM = 18 * 9\n",
    "DAY_PER_MONTH = 20\n",
    "VALIDATION_SET = True"
   ]
  },
  {
   "cell_type": "code",
   "execution_count": null,
   "metadata": {},
   "outputs": [],
   "source": [
    "def rmse(y_hypo, y_hat):\n",
    "    cost = (y_hat - y_hypo) ** 2\n",
    "    cost = np.sum(cost) / len(y_hypo)\n",
    "    return np.sqrt(cost)"
   ]
  },
  {
   "cell_type": "code",
   "execution_count": null,
   "metadata": {},
   "outputs": [],
   "source": [
    "# Read training data\n",
    "df = pd.read_csv(\"ml-2018spring-hw1/train.csv\", encoding=\"big5\")\n",
    "\n",
    "# Transform RAINFALL column to number\n",
    "for row in range(10, len(df), FEATURE_PER_DAY):\n",
    "    df.iloc[row, 3:] = pd.to_numeric(df.iloc[row, 3:], errors=\"coerce\")\n",
    "\n",
    "df.fillna(0, inplace=True)"
   ]
  },
  {
   "cell_type": "code",
   "execution_count": null,
   "metadata": {},
   "outputs": [],
   "source": [
    "# Data preprocessing\n",
    "data = []\n",
    "\n",
    "for i in range(FEATURE_PER_DAY):\n",
    "    data.append([])\n",
    "\n",
    "for index, row in df.iterrows():\n",
    "    for item in range(3, 27):\n",
    "        data[index%FEATURE_PER_DAY].append(row[item])"
   ]
  },
  {
   "cell_type": "code",
   "execution_count": null,
   "metadata": {},
   "outputs": [],
   "source": [
    "# Store features and labels, concat days to get more training data\n",
    "x_data = []\n",
    "y_data = []\n",
    "\n",
    "# Set validation set\n",
    "x_v_data = []\n",
    "y_v_data = []\n",
    "\n",
    "def validation(data):\n",
    "    for element in data:\n",
    "        if float(element) <= 0:\n",
    "            return False\n",
    "    return True\n",
    "\n",
    "for i in range(len(data[0])):\n",
    "    if i % 480 + WINDOW_SIZE < 480 and validation(data[9][i:i+WINDOW_SIZE+1]):\n",
    "        vec = []\n",
    "        for j in range(FEATURE_PER_DAY):\n",
    "            for element in data[j][i:i+WINDOW_SIZE]:\n",
    "                vec.append(float(element))\n",
    "                \n",
    "        if VALIDATION_SET and random.randint(1, 10) % 10 == 0:\n",
    "            x_v_data.append(vec)\n",
    "            y_v_data.append(float(data[9][i+WINDOW_SIZE]))\n",
    "        else:  \n",
    "            x_data.append(vec)\n",
    "            y_data.append(float(data[9][i+WINDOW_SIZE]))\n",
    "    \n",
    "x_data = np.array(x_data)\n",
    "y_data = np.array(y_data)\n",
    "x_data = np.concatenate((np.ones((x_data.shape[0], 1)), x_data), axis=1)\n",
    "\n",
    "if VALIDATION_SET:\n",
    "    x_v_data = np.array(x_v_data)\n",
    "    y_v_data = np.array(y_v_data)\n",
    "    x_v_data = np.concatenate((np.ones((x_v_data.shape[0], 1)), x_v_data), axis=1)"
   ]
  },
  {
   "cell_type": "code",
   "execution_count": null,
   "metadata": {},
   "outputs": [],
   "source": [
    "# Feature scaling\n",
    "def feature_scaling(x_data):\n",
    "    old_err_state = np.seterr(divide='raise')\n",
    "    ignored_states = np.seterr(**old_err_state)\n",
    "    x_data = np.subtract(x_data, np.mean(x_data, axis=0))\n",
    "    x_data = np.divide(x_data, np.std(x_data, axis=0))\n",
    "    x_data = np.nan_to_num(x_data)\n",
    "    return x_data"
   ]
  },
  {
   "cell_type": "code",
   "execution_count": null,
   "metadata": {},
   "outputs": [],
   "source": [
    "# x_data = feature_scaling(x_data)\n",
    "# x_v_data = feature_scaling(x_v_data)"
   ]
  },
  {
   "cell_type": "code",
   "execution_count": null,
   "metadata": {},
   "outputs": [],
   "source": [
    "# Try with DNN\n",
    "from keras.models import Sequential\n",
    "from keras.layers.core import Dense, Dropout, Activation\n",
    "from keras.layers import Conv2D, MaxPooling2D, Flatten\n",
    "from keras.optimizers import SGD, Adam\n",
    "from keras.utils import np_utils\n",
    "from keras.datasets import mnist"
   ]
  },
  {
   "cell_type": "code",
   "execution_count": null,
   "metadata": {
    "scrolled": true
   },
   "outputs": [],
   "source": [
    "model = Sequential()\n",
    "\n",
    "model.add(Dense(input_dim=FEATURE_NUM+1, units=1, activation=\"linear\"))\n",
    "# model.add(Dense(units=1, activation=\"relu\"))\n",
    "\n",
    "model.compile(loss=\"mse\", optimizer='adam')\n",
    "\n",
    "model.fit(x_data, y_data, batch_size=100, epochs=2000)"
   ]
  },
  {
   "cell_type": "code",
   "execution_count": null,
   "metadata": {
    "scrolled": true
   },
   "outputs": [],
   "source": [
    "result = model.evaluate(x_data, y_data)\n",
    "print(\"Test acc:\", result)"
   ]
  },
  {
   "cell_type": "code",
   "execution_count": null,
   "metadata": {},
   "outputs": [],
   "source": [
    "y_hypo = model.predict(x_v_data).flatten()\n",
    "print(rmse(y_v_data, y_hypo))"
   ]
  },
  {
   "cell_type": "code",
   "execution_count": null,
   "metadata": {},
   "outputs": [],
   "source": [
    "# Compute test value\n",
    "dt = pd.read_csv(\"ml-2018spring-hw1/test.csv\", header=None, encoding=\"big5\")\n",
    "\n",
    "for row in range(10, len(dt), FEATURE_PER_DAY):\n",
    "    dt.iloc[row, 2:] = pd.to_numeric(dt.iloc[row, 2:], errors=\"coerce\")\n",
    "    \n",
    "dt.fillna(0, inplace=True)\n",
    "\n",
    "x_test = []\n",
    "y_test = []\n",
    "TEST_ROW_SIZE, TEST_COLUMN_SIZE = dt.shape\n",
    "\n",
    "for i in range(0, len(dt), FEATURE_PER_DAY):\n",
    "    arr = np.array(dt.iloc[i:i+FEATURE_PER_DAY, TEST_COLUMN_SIZE-WINDOW_SIZE:TEST_COLUMN_SIZE], dtype=float)\n",
    "    arr = np.insert(arr, 0, 1) # x0 for bias\n",
    "    x_test.append(arr)"
   ]
  },
  {
   "cell_type": "code",
   "execution_count": null,
   "metadata": {},
   "outputs": [],
   "source": [
    "x_test = np.array(x_test)\n",
    "y_test_nn = model.predict(x_test).flatten()\n",
    "\n",
    "for i in range(len(y_test_nn)):\n",
    "    if y_test_nn[i] < 0:\n",
    "        y_test_nn[i] = 0\n",
    "\n",
    "arr = [[\"id_\" + str(i), y_test_nn[i]] for i in range(len(y_test_nn))]\n",
    "dw = pd.DataFrame(arr, columns = [\"id\", \"value\"])\n",
    "dw.to_csv(\"outputnn.csv\", index=False)"
   ]
  }
 ],
 "metadata": {
  "kernelspec": {
   "display_name": "Python 3",
   "language": "python",
   "name": "python3"
  },
  "language_info": {
   "codemirror_mode": {
    "name": "ipython",
    "version": 3
   },
   "file_extension": ".py",
   "mimetype": "text/x-python",
   "name": "python",
   "nbconvert_exporter": "python",
   "pygments_lexer": "ipython3",
   "version": "3.6.4"
  }
 },
 "nbformat": 4,
 "nbformat_minor": 2
}
