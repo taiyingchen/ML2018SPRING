{
 "cells": [
  {
   "cell_type": "markdown",
   "metadata": {},
   "source": [
    "# Code"
   ]
  },
  {
   "cell_type": "code",
   "execution_count": null,
   "metadata": {},
   "outputs": [],
   "source": [
    "import numpy as np\n",
    "from skimage import io\n",
    "import os\n",
    "\n",
    "IMAGE_FOLDER = \"Aberdeen/\"\n",
    "height = width = 600\n",
    "channel = 3"
   ]
  },
  {
   "cell_type": "code",
   "execution_count": null,
   "metadata": {},
   "outputs": [],
   "source": [
    "# arr = skimage.io.imread(IMAGE_FOLDER + \"0.jpg\")\n",
    "image_files = os.listdir(IMAGE_FOLDER)\n",
    "image_files = [os.path.join(IMAGE_FOLDER, file) for file in image_files]\n",
    "X_raw = []\n",
    "for i in image_files:\n",
    "    X_raw.append(io.imread(i).flatten())\n",
    "X_raw = np.array(X_raw)"
   ]
  },
  {
   "cell_type": "code",
   "execution_count": null,
   "metadata": {},
   "outputs": [],
   "source": [
    "# X.shape = (600x600x3, data size)\n",
    "X_train = X_raw\n",
    "# Mean of the faces\n",
    "X_mean = np.mean(X_train, axis=0)\n",
    "U, s, V = np.linalg.svd((X_train - X_mean).T, full_matrices=False)"
   ]
  },
  {
   "cell_type": "markdown",
   "metadata": {},
   "source": [
    "# Report"
   ]
  },
  {
   "cell_type": "code",
   "execution_count": null,
   "metadata": {
    "scrolled": false
   },
   "outputs": [],
   "source": [
    "import matplotlib.pyplot as plt"
   ]
  },
  {
   "cell_type": "markdown",
   "metadata": {},
   "source": [
    "## Mean of the faces"
   ]
  },
  {
   "cell_type": "code",
   "execution_count": null,
   "metadata": {
    "scrolled": true
   },
   "outputs": [],
   "source": [
    "plot_face = X_mean.reshape(height, width, channel)\n",
    "plot_face -= np.min(plot_face)\n",
    "plot_face /= np.max(plot_face)\n",
    "plot_face = (plot_face * 255).astype(np.uint8)\n",
    "plt.imshow(plot_face)\n",
    "plt.show()"
   ]
  },
  {
   "cell_type": "markdown",
   "metadata": {},
   "source": [
    "## 4 eigenfaces"
   ]
  },
  {
   "cell_type": "code",
   "execution_count": null,
   "metadata": {
    "scrolled": false
   },
   "outputs": [],
   "source": [
    "faces_size = 12\n",
    "eigen_faces = U.T[:faces_size]\n",
    "\n",
    "plt.figure(figsize=(15, 10))\n",
    "for i in range(faces_size):\n",
    "    plot_face = eigen_faces[i].reshape(height, width, channel)\n",
    "    plot_face -= np.min(plot_face)\n",
    "    plot_face /= np.max(plot_face)\n",
    "    plot_face = (plot_face * 255).astype(np.uint8)\n",
    "    plt.subplot(faces_size//4, 4, i+1)\n",
    "    plt.imshow(plot_face)\n",
    "plt.show()"
   ]
  }
 ],
 "metadata": {
  "kernelspec": {
   "display_name": "Python 3",
   "language": "python",
   "name": "python3"
  },
  "language_info": {
   "codemirror_mode": {
    "name": "ipython",
    "version": 3
   },
   "file_extension": ".py",
   "mimetype": "text/x-python",
   "name": "python",
   "nbconvert_exporter": "python",
   "pygments_lexer": "ipython3",
   "version": "3.6.5"
  }
 },
 "nbformat": 4,
 "nbformat_minor": 2
}
