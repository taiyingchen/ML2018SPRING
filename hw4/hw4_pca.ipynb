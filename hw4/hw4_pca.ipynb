{
 "cells": [
  {
   "cell_type": "markdown",
   "metadata": {},
   "source": [
    "# Code"
   ]
  },
  {
   "cell_type": "code",
   "execution_count": null,
   "metadata": {},
   "outputs": [],
   "source": [
    "import numpy as np\n",
    "from skimage import io\n",
    "import os\n",
    "\n",
    "IMAGE_FOLDER = \"Aberdeen/\"\n",
    "height = width = 600\n",
    "channel = 3"
   ]
  },
  {
   "cell_type": "code",
   "execution_count": null,
   "metadata": {},
   "outputs": [],
   "source": [
    "image_files = sorted(os.listdir(IMAGE_FOLDER))\n",
    "image_files = [os.path.join(IMAGE_FOLDER, file) for file in image_files]\n",
    "X_train = []\n",
    "for i in image_files:\n",
    "    X_train.append(io.imread(i).flatten())\n",
    "X_train = np.array(X_train)"
   ]
  },
  {
   "cell_type": "code",
   "execution_count": null,
   "metadata": {},
   "outputs": [],
   "source": [
    "# Mean of the faces\n",
    "X_mean = np.mean(X_train, axis=0)\n",
    "U, s, V = np.linalg.svd((X_train-X_mean).T, full_matrices=False)"
   ]
  },
  {
   "cell_type": "markdown",
   "metadata": {},
   "source": [
    "# Report"
   ]
  },
  {
   "cell_type": "code",
   "execution_count": null,
   "metadata": {
    "scrolled": false
   },
   "outputs": [],
   "source": [
    "import matplotlib.pyplot as plt\n",
    "\n",
    "REPORT_FOLDER = \"report/\"\n",
    "if not os.path.isdir(REPORT_FOLDER):\n",
    "    os.mkdir(REPORT_FOLDER)"
   ]
  },
  {
   "cell_type": "markdown",
   "metadata": {},
   "source": [
    "## Mean of the faces"
   ]
  },
  {
   "cell_type": "code",
   "execution_count": null,
   "metadata": {
    "scrolled": true
   },
   "outputs": [],
   "source": [
    "plot_face = np.copy(X_mean).reshape(height, width, channel)\n",
    "plot_face -= np.min(plot_face)\n",
    "plot_face /= np.max(plot_face)\n",
    "plot_face = (plot_face*255).astype(np.uint8)\n",
    "plt.imshow(plot_face)\n",
    "plt.savefig(os.path.join(REPORT_FOLDER, \"mean.png\"))\n",
    "plt.show()"
   ]
  },
  {
   "cell_type": "markdown",
   "metadata": {},
   "source": [
    "## 4 eigenfaces"
   ]
  },
  {
   "cell_type": "code",
   "execution_count": null,
   "metadata": {
    "scrolled": false
   },
   "outputs": [],
   "source": [
    "faces_size = 4\n",
    "plot_eigen_faces = np.copy(U.T[:faces_size])\n",
    "\n",
    "fig = plt.figure(figsize=(10, 6))\n",
    "for i in range(faces_size):\n",
    "    plot_face = plot_eigen_faces[i].reshape(height, width, channel)\n",
    "    plot_face -= np.min(plot_face)\n",
    "    plot_face /= np.max(plot_face)\n",
    "    plot_face = (plot_face*255).astype(np.uint8)\n",
    "    ax = fig.add_subplot(faces_size//4, 4, i+1)\n",
    "    ax.imshow(plot_face)\n",
    "    plt.xlabel('{}'.format(i+1))\n",
    "    plt.tight_layout()\n",
    "fig.savefig(os.path.join(REPORT_FOLDER, \"eigenfaces.png\"))\n",
    "plt.show()"
   ]
  },
  {
   "cell_type": "markdown",
   "metadata": {},
   "source": [
    "## Reconstruction"
   ]
  },
  {
   "cell_type": "code",
   "execution_count": null,
   "metadata": {},
   "outputs": [],
   "source": [
    "eigen_faces = U.T[:4]\n",
    "c = np.dot((X_train-X_mean), eigen_faces.T)\n",
    "X_rec = np.dot(c, eigen_faces)\n",
    "X_rec += X_mean"
   ]
  },
  {
   "cell_type": "code",
   "execution_count": null,
   "metadata": {
    "scrolled": false
   },
   "outputs": [],
   "source": [
    "index = [47, 134, 192, 361]\n",
    "\n",
    "for i in index:\n",
    "    fig = plt.figure(figsize=(8, 6))\n",
    "    plot_face = X_rec[i].reshape(height, width, channel)\n",
    "    plot_face -= np.min(plot_face)\n",
    "    plot_face /= np.max(plot_face)\n",
    "    plot_face = (plot_face*255).astype(np.uint8)\n",
    "    ax = fig.add_subplot(1, 2, 1)\n",
    "    plt.xlabel('reconstruction')\n",
    "    plt.tight_layout()\n",
    "    ax.imshow(plot_face)\n",
    "    ax = fig.add_subplot(1, 2, 2)\n",
    "    ax.imshow(X_train[i].reshape(height, width, channel).astype(np.uint8))\n",
    "    plt.xlabel('original')\n",
    "    plt.tight_layout()\n",
    "    fig.savefig(os.path.join(REPORT_FOLDER, \"rec_{}.png\".format(i)))\n",
    "    plt.show()"
   ]
  },
  {
   "cell_type": "markdown",
   "metadata": {},
   "source": [
    "## Eigenfaces fraction"
   ]
  },
  {
   "cell_type": "code",
   "execution_count": null,
   "metadata": {},
   "outputs": [],
   "source": [
    "frac = s / np.sum(s)\n",
    "print(\"4 Largest Eigenfaces singular:\")\n",
    "print(s[:4])\n",
    "print(\"4 Largest Eigenfaces fraction:\")\n",
    "print(frac[:4])"
   ]
  }
 ],
 "metadata": {
  "kernelspec": {
   "display_name": "Python 3",
   "language": "python",
   "name": "python3"
  },
  "language_info": {
   "codemirror_mode": {
    "name": "ipython",
    "version": 3
   },
   "file_extension": ".py",
   "mimetype": "text/x-python",
   "name": "python",
   "nbconvert_exporter": "python",
   "pygments_lexer": "ipython3",
   "version": "3.6.5"
  }
 },
 "nbformat": 4,
 "nbformat_minor": 2
}
