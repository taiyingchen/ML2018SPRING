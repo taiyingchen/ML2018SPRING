{
 "cells": [
  {
   "cell_type": "code",
   "execution_count": 1,
   "metadata": {},
   "outputs": [],
   "source": [
    "import numpy as np\n",
    "from sklearn.manifold import TSNE\n",
    "import matplotlib.pyplot as plt\n",
    "from sklearn.cluster import KMeans\n",
    "import pickle\n",
    "\n",
    "IMAGES_PATH = \"visualization.npy\"\n",
    "KMEANS_PATH = \"kmeans.pickle\"\n",
    "\n",
    "def dimension_reduction(X_train):\n",
    "    # Normalization\n",
    "    X_train_norm = X_train / 255\n",
    "\n",
    "    pca = PCA(n_components=395, whiten=True)\n",
    "    X_train_pca = pca.fit_transform(X_train_norm)\n",
    "\n",
    "    return X_train_pca"
   ]
  },
  {
   "cell_type": "code",
   "execution_count": null,
   "metadata": {},
   "outputs": [],
   "source": [
    "imgs = np.load(IMAGES_PATH)\n",
    "imgs_pca = dimesion_reduction(imgs)\n",
    "imgs_embedded = TSNE(n_components=2, n_iter=250).fit_transform(imgs_pca)"
   ]
  },
  {
   "cell_type": "markdown",
   "metadata": {},
   "source": [
    "## Predict label"
   ]
  },
  {
   "cell_type": "code",
   "execution_count": null,
   "metadata": {},
   "outputs": [],
   "source": [
    "with open(KMEANS_PATH, 'rb') as file:\n",
    "    kmeans = pickle.load(file)\n",
    "imgs_label = kmeans.predict(imgs_pca)"
   ]
  },
  {
   "cell_type": "markdown",
   "metadata": {},
   "source": [
    "## Comparison to ground truth"
   ]
  },
  {
   "cell_type": "code",
   "execution_count": null,
   "metadata": {},
   "outputs": [],
   "source": [
    "plt.scatter(imgs_embedded[imgs_label == 0][:, 0], imgs_embedded[imgs_label == 0][:, 1], c='b', label=\"dataset A\", s=0.2)\n",
    "plt.scatter(imgs_embedded[imgs_label == 1][:, 0], imgs_embedded[imgs_label == 1][:, 1], c='r', label=\"dataset B\", s=0.2)\n",
    "plt.title(\"Predict label\")\n",
    "plt.legend()\n",
    "plt.savefig(\"tsne_predict.png\")\n",
    "plt.show()"
   ]
  },
  {
   "cell_type": "code",
   "execution_count": null,
   "metadata": {},
   "outputs": [],
   "source": [
    "plt.scatter(imgs_embedded[:5000, 0], imgs_embedded[:5000, 1], c='b', label=\"dataset A\", s=0.2)\n",
    "plt.scatter(imgs_embedded[5000:, 0], imgs_embedded[5000:, 1], c='r', label=\"dataset B\", s=0.2)\n",
    "plt.title(\"Ground truth\")\n",
    "plt.legend()\n",
    "plt.savefig(\"tsne_truth.png\")\n",
    "plt.show()"
   ]
  }
 ],
 "metadata": {
  "kernelspec": {
   "display_name": "Python 3",
   "language": "python",
   "name": "python3"
  },
  "language_info": {
   "codemirror_mode": {
    "name": "ipython",
    "version": 3
   },
   "file_extension": ".py",
   "mimetype": "text/x-python",
   "name": "python",
   "nbconvert_exporter": "python",
   "pygments_lexer": "ipython3",
   "version": "3.6.5"
  }
 },
 "nbformat": 4,
 "nbformat_minor": 2
}
