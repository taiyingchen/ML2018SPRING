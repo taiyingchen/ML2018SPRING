{
 "cells": [
  {
   "cell_type": "code",
   "execution_count": null,
   "metadata": {},
   "outputs": [],
   "source": [
    "import numpy as np\n",
    "from sklearn.decomposition import PCA\n",
    "from sklearn.manifold import TSNE\n",
    "from sklearn.cluster import KMeans\n",
    "import matplotlib.pyplot as plt\n",
    "import pickle\n",
    "\n",
    "IMAGES_PATH = \"ml2018spring-hw4-v2/visualization.npy\"\n",
    "PCA_PATH = \"model/pca.pickle\"\n",
    "KMEANS_PATH = \"model/kmeans.pickle\"\n",
    "\n",
    "def dimension_reduction(X_train):\n",
    "    # Normalization\n",
    "    X_train_norm = X_train / 255\n",
    "\n",
    "    with open(PCA_PATH, 'rb') as file:\n",
    "        pca = pickle.load(file)\n",
    "    X_train_pca = pca.transform(X_train_norm)\n",
    "\n",
    "    return X_train_pca\n",
    "\n",
    "def dimension_reduction_visualization(X_train, dimension):\n",
    "    # Normalization\n",
    "    X_train_norm = X_train / 255\n",
    "\n",
    "    pca = PCA(n_components=dimension, whiten=True)\n",
    "    X_train_pca = pca.fit_transform(X_train_norm)\n",
    "\n",
    "    return X_train_pca\n",
    "\n",
    "def clustering(imgs_pca):\n",
    "    with open(KMEANS_PATH, 'rb') as file:\n",
    "        kmeans = pickle.load(file)\n",
    "    imgs_label = kmeans.predict(imgs_pca)\n",
    "    return imgs_label"
   ]
  },
  {
   "cell_type": "markdown",
   "metadata": {},
   "source": [
    "## Visualization"
   ]
  },
  {
   "cell_type": "code",
   "execution_count": null,
   "metadata": {},
   "outputs": [],
   "source": [
    "imgs = np.load(IMAGES_PATH)\n",
    "imgs_pca = dimension_reduction(imgs)\n",
    "imgs_pca_vis = dimension_reduction_visualization(imgs_pca, 15)\n",
    "imgs_embedded = TSNE(n_components=2).fit_transform(imgs_pca_vis)"
   ]
  },
  {
   "cell_type": "markdown",
   "metadata": {},
   "source": [
    "## Predict label"
   ]
  },
  {
   "cell_type": "code",
   "execution_count": null,
   "metadata": {},
   "outputs": [],
   "source": [
    "imgs_label = clustering(imgs_pca)"
   ]
  },
  {
   "cell_type": "markdown",
   "metadata": {},
   "source": [
    "## Comparison to ground truth"
   ]
  },
  {
   "cell_type": "code",
   "execution_count": null,
   "metadata": {},
   "outputs": [],
   "source": [
    "acc = (len(imgs_label[:5000][imgs_label[:5000] == 0]) + len(imgs_label[:5000][imgs_label[:5000] == 0])) / len(imgs_label)\n",
    "print(\"Accuracy is {:.5f}\".format(acc))"
   ]
  },
  {
   "cell_type": "code",
   "execution_count": null,
   "metadata": {},
   "outputs": [],
   "source": [
    "plt.scatter(imgs_embedded[imgs_label == 0][:, 0], imgs_embedded[imgs_label == 0][:, 1], c='b', label=\"dataset A\", s=0.2)\n",
    "plt.scatter(imgs_embedded[imgs_label == 1][:, 0], imgs_embedded[imgs_label == 1][:, 1], c='r', label=\"dataset B\", s=0.2)\n",
    "plt.title(\"Predict label\")\n",
    "plt.legend()\n",
    "plt.savefig(\"report/tsne_predict.png\")\n",
    "plt.show()"
   ]
  },
  {
   "cell_type": "code",
   "execution_count": null,
   "metadata": {},
   "outputs": [],
   "source": [
    "plt.scatter(imgs_embedded[:5000, 0], imgs_embedded[:5000, 1], c='b', label=\"dataset A\", s=0.2)\n",
    "plt.scatter(imgs_embedded[5000:, 0], imgs_embedded[5000:, 1], c='r', label=\"dataset B\", s=0.2)\n",
    "plt.title(\"Ground truth\")\n",
    "plt.legend()\n",
    "plt.savefig(\"report/tsne_truth.png\")\n",
    "plt.show()"
   ]
  }
 ],
 "metadata": {
  "kernelspec": {
   "display_name": "Python 3",
   "language": "python",
   "name": "python3"
  },
  "language_info": {
   "codemirror_mode": {
    "name": "ipython",
    "version": 3
   },
   "file_extension": ".py",
   "mimetype": "text/x-python",
   "name": "python",
   "nbconvert_exporter": "python",
   "pygments_lexer": "ipython3",
   "version": "3.6.5"
  }
 },
 "nbformat": 4,
 "nbformat_minor": 2
}
