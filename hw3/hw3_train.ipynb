{
 "cells": [
  {
   "cell_type": "code",
   "execution_count": null,
   "metadata": {},
   "outputs": [],
   "source": [
    "# -*- coding: utf-8 -*-\n",
    "import numpy as np\n",
    "import pandas as pd\n",
    "from PIL import Image\n",
    "import os.path\n",
    "\n",
    "# Keras\n",
    "from keras.utils import np_utils\n",
    "from keras.models import Sequential\n",
    "from keras.layers import Dense, Dropout, Activation, Conv2D, MaxPooling2D, Flatten\n",
    "from keras import regularizers\n",
    "from keras.preprocessing.image import ImageDataGenerator\n",
    "\n",
    "# Image preview\n",
    "import matplotlib.pyplot as plt\n",
    "% matplotlib inline\n",
    "\n",
    "# Numpy print full array\n",
    "np.set_printoptions(threshold=np.inf)\n",
    "\n",
    "# Constants\n",
    "DIRECTORY = \"ml-2018spring-hw3/\"\n",
    "\n",
    "# Parameters"
   ]
  },
  {
   "cell_type": "code",
   "execution_count": null,
   "metadata": {},
   "outputs": [],
   "source": [
    "# Functions\n",
    "# def extract_feature(x):\n",
    "\n",
    "def get_training_data(horizontal_flip=False, shuffle_data=False, validation_split=0.0):\n",
    "    filename = \"train.csv\"\n",
    "    filepath = DIRECTORY + filename\n",
    "\n",
    "    if os.path.exists(filepath):\n",
    "        data = pd.read_csv(filepath)\n",
    "        x_raw = data[\"feature\"]\n",
    "        y_raw = data[\"label\"]\n",
    "        \n",
    "        \n",
    "        #  Split features into array & reshape to (48, 48, 1)\n",
    "        x = x_raw.str.split(expand=True).values.reshape(-1, 48, 48, 1).astype('int')\n",
    "        # One hot encoding\n",
    "        y = np_utils.to_categorical(y_raw)\n",
    "        # Add fliplr image to label 1\n",
    "        if horizontal_flip:\n",
    "            (x, y) = add_fliplr_image(x, y, y_raw, 1)\n",
    "        if shuffle_data:\n",
    "            (x, y) = shuffle(x, y)\n",
    "        \n",
    "        # Split validation set\n",
    "        if validation_split > 0.0 and validation_split <= 1.0:\n",
    "            valid_size = int(validation_split*len(x))\n",
    "            x_train = x[:-valid_size]\n",
    "            x_valid = x[-valid_size:]\n",
    "            y_train = y[:-valid_size]\n",
    "            y_valid = y[-valid_size:]\n",
    "        else:\n",
    "            x_train = x\n",
    "            y_train = y\n",
    "            x_valid = []\n",
    "            y_valid = []\n",
    "    else:\n",
    "        print(\"Error: No such file at %s\" % filepath)\n",
    "\n",
    "    return (x_train, y_train), (x_valid, y_valid), (x_raw, y_raw)\n",
    "        \n",
    "def get_accuracy(y_hypo, y):\n",
    "    return len(y_hypo[y_hypo==y]) / len(y_hypo)\n",
    "    \n",
    "def get_testing_data(original):\n",
    "    if original:\n",
    "        filename = \"test.csv\"\n",
    "        # TODO\n",
    "    else:\n",
    "        filename = \"test_X\"\n",
    "    filepath = DIRECTORY + filename\n",
    "\n",
    "    if os.path.exists(filepath):\n",
    "        x = pd.read_csv(filepath, dtype=float).as_matrix()\n",
    "        return x\n",
    "        \n",
    "def output_prediction(y_test, filename=\"output.csv\"):\n",
    "    arr = [[i+1, int(y_test[i])] for i in range(len(y_test))]\n",
    "    dw = pd.DataFrame(arr, columns = [\"id\", \"label\"])\n",
    "    dw.to_csv(filename, index=False)\n",
    "\n",
    "def normalize(x_set, norm_column=[]):\n",
    "    x_all = np.concatenate(x_set, axis=0)\n",
    "    mean = np.mean(x_all, axis=0)\n",
    "    std = np.std(x_all, axis=0)\n",
    "    \n",
    "    for x in x_set:\n",
    "        for column in norm_column:\n",
    "            x[:, column] = np.subtract(x[:, column], mean[column])\n",
    "            x[:, column] = np.true_divide(x[:, column], std[column])\n",
    "            \n",
    "    return x_set\n",
    "\n",
    "def add_fliplr_image(x_train, y_train, y_raw, label):\n",
    "    index = y_raw[y_raw == label].index\n",
    "    category = np_utils.to_categorical([label], 7)\n",
    "    total_categories = np.repeat(category, len(index), axis=0)\n",
    "    total_images = np.empty((0, 48, 48, 1), int)\n",
    "\n",
    "    for i in index:\n",
    "        image = np.fliplr(x_train[i]).reshape(1, 48, 48, 1)\n",
    "        total_images = np.append(total_images, image, axis=0)\n",
    "\n",
    "    x_train = np.concatenate((x_train, total_images), axis=0)\n",
    "    y_train = np.concatenate((y_train, total_categories), axis=0)\n",
    "    return (x_train, y_train)\n",
    "\n",
    "def shuffle(x_train, y_train):\n",
    "    seed = np.arange(x_train.shape[0])\n",
    "    np.random.shuffle(seed)\n",
    "    x_train = x_train[seed]\n",
    "    y_train = y_train[seed]\n",
    "    return (x_train, y_train)"
   ]
  },
  {
   "cell_type": "code",
   "execution_count": null,
   "metadata": {
    "scrolled": true
   },
   "outputs": [],
   "source": [
    "# Plot\n",
    "def show_train_history(train_history, train, validation):\n",
    "    plt.plot(train_history.history[train])\n",
    "    plt.plot(train_history.history[validation])\n",
    "    plt.title(\"Train History\")\n",
    "    plt.ylabel(\"train\")\n",
    "    plt.xlabel(\"Epoch\")\n",
    "    plt.legend([\"train\", \"validation\"], loc=\"center right\")\n",
    "    plt.show()"
   ]
  },
  {
   "cell_type": "code",
   "execution_count": null,
   "metadata": {
    "scrolled": true
   },
   "outputs": [],
   "source": [
    "(x_train, y_train), (x_valid, y_valid), (x_raw, y_raw) = get_training_data(\n",
    "    horizontal_flip=True,\n",
    "    shuffle_data=True,\n",
    "    validation_split=0.1)"
   ]
  },
  {
   "cell_type": "code",
   "execution_count": null,
   "metadata": {},
   "outputs": [],
   "source": [
    "# Normalization\n",
    "x_train = x_train / 255\n",
    "if len(x_valid) > 0:\n",
    "    x_valid = x_valid / 255"
   ]
  },
  {
   "cell_type": "code",
   "execution_count": null,
   "metadata": {},
   "outputs": [],
   "source": [
    "train_gen = ImageDataGenerator(\n",
    "    zca_whitening=False,\n",
    "    rotation_range=20,\n",
    "    width_shift_range=0.2,\n",
    "    height_shift_range=0.2,\n",
    "    shear_range=0.1,\n",
    "    zoom_range=0.2,\n",
    "    horizontal_flip=True,\n",
    "    fill_mode=\"nearest\")\n",
    "\n",
    "train_gen.fit(x_train)"
   ]
  },
  {
   "cell_type": "code",
   "execution_count": null,
   "metadata": {},
   "outputs": [],
   "source": [
    "index = 0\n",
    "print(y_train[index])\n",
    "plt.imshow(x_train[index].reshape(48, 48))\n",
    "plt.show()"
   ]
  },
  {
   "cell_type": "code",
   "execution_count": null,
   "metadata": {
    "scrolled": true
   },
   "outputs": [],
   "source": [
    "model = Sequential()\n",
    "\n",
    "# CNN\n",
    "# input shape (1, 48, 48)\n",
    "model.add(Conv2D(25, (5, 5), input_shape=(48, 48, 1), activation=\"relu\"))\n",
    "model.add(MaxPooling2D((2, 2)))\n",
    "model.add(Conv2D(16, (3, 3)))\n",
    "model.add(MaxPooling2D((2, 2)))\n",
    "# model.add(Dropout(0.5))\n",
    "model.add(Flatten())\n",
    "\n",
    "# DNN\n",
    "model.add(Dense(units=128, activation=\"relu\"))\n",
    "# model.add(Dense(units=128, activation=\"relu\",\n",
    "#                kernel_regularizer=regularizers.l2(0.01)))\n",
    "# model.add(Dropout(0.5))\n",
    "# model.add(Dense(units=128, activation=\"relu\"))\n",
    "# model.add(Dropout(0.5))\n",
    "\n",
    "# Output layer\n",
    "model.add(Dense(units=7,activation=\"softmax\"))\n",
    "model.summary()"
   ]
  },
  {
   "cell_type": "code",
   "execution_count": null,
   "metadata": {
    "scrolled": false
   },
   "outputs": [],
   "source": [
    "epochs = 200\n",
    "batch_size = 128\n",
    "steps_per_epoch = int((x_train.shape[0]*10)/batch_size)\n",
    "model_name = \"cnn.h5\"\n",
    "\n",
    "model.compile(loss=\"categorical_crossentropy\", optimizer=\"adam\", metrics=['accuracy'])\n",
    "# train_history = model.fit(x_train, y_train, validation_split=0.1, batch_size=100, epochs=10)\n",
    "train_history = model.fit_generator(\n",
    "    train_gen.flow(x_train, y_train, batch_size=batch_size),\n",
    "    steps_per_epoch=steps_per_epoch,\n",
    "    epochs=epochs,\n",
    "    validation_data=(x_valid, y_valid))\n",
    "\n",
    "# score = model.evaluate(x_valid, y_valid)\n",
    "# print('Total loss on Testing Set:', score[0])\n",
    "# print('Accuracy of Testing Set:', score[1])\n",
    "\n",
    "# y_test = model.predict(x_test)\n",
    "# prob = np.argmax(y_test, axis=1)\n",
    "# output_prediction(prob , \"best.csv\")\n",
    "\n",
    "model.save(model_name)"
   ]
  },
  {
   "cell_type": "code",
   "execution_count": null,
   "metadata": {
    "scrolled": false
   },
   "outputs": [],
   "source": [
    "show_train_history(train_history, 'acc', 'val_acc')\n",
    "show_train_history(train_history, 'loss', 'val_loss')"
   ]
  },
  {
   "cell_type": "code",
   "execution_count": null,
   "metadata": {
    "scrolled": true
   },
   "outputs": [],
   "source": [
    "# Confusion matrix\n",
    "prediction = model.predict_classes(x_train)\n",
    "print(y_train.shape)\n",
    "y_train_categories = np.argmax(y_train, axis=1)\n",
    "pd.crosstab(y_train_categories, prediction, rownames=[\"label\"], colnames=[\"predict\"])"
   ]
  }
 ],
 "metadata": {
  "kernelspec": {
   "display_name": "Python 3",
   "language": "python",
   "name": "python3"
  },
  "language_info": {
   "codemirror_mode": {
    "name": "ipython",
    "version": 3
   },
   "file_extension": ".py",
   "mimetype": "text/x-python",
   "name": "python",
   "nbconvert_exporter": "python",
   "pygments_lexer": "ipython3",
   "version": "3.6.4"
  }
 },
 "nbformat": 4,
 "nbformat_minor": 2
}
