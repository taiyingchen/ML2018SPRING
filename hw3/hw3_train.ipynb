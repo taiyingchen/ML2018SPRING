{
 "cells": [
  {
   "cell_type": "code",
   "execution_count": 91,
   "metadata": {
    "scrolled": true
   },
   "outputs": [],
   "source": [
    "# -*- coding: utf-8 -*-\n",
    "import numpy as np\n",
    "import pandas as pd\n",
    "from PIL import Image\n",
    "import os.path\n",
    "import datetime\n",
    "\n",
    "# Keras\n",
    "from keras.utils import np_utils\n",
    "from keras.models import Sequential, load_model\n",
    "from keras.layers import Dense, Dropout, Activation, Conv2D, MaxPooling2D, Flatten, PReLU\n",
    "from keras import regularizers\n",
    "from keras.preprocessing.image import ImageDataGenerator\n",
    "from keras.callbacks import ModelCheckpoint\n",
    "\n",
    "# Image preview\n",
    "import matplotlib.pyplot as plt\n",
    "% matplotlib inline\n",
    "\n",
    "# Numpy print full array\n",
    "np.set_printoptions(threshold=np.inf)\n",
    "\n",
    "# Constants\n",
    "DIRECTORY = \"ml-2018spring-hw3/\"\n",
    "MODEL_DIRECTORY = \"model/\"\n",
    "LABEL_MAP = {0:'生氣', 1:'厭惡', 2:'恐懼', 3:'高興', 4:'難過', 5:'驚訝', 6:'中立'}\n",
    "# Parameters"
   ]
  },
  {
   "cell_type": "code",
   "execution_count": 92,
   "metadata": {},
   "outputs": [],
   "source": [
    "# Functions\n",
    "def get_training_data(horizontal_flip=False, shuffle_data=False, validation_split=0.0):\n",
    "    filename = \"train.csv\"\n",
    "    filepath = DIRECTORY + filename\n",
    "\n",
    "    if os.path.exists(filepath):\n",
    "        data = pd.read_csv(filepath)\n",
    "        x_raw = data[\"feature\"]\n",
    "        y_raw = data[\"label\"]\n",
    "        \n",
    "        \n",
    "        #  Split features into array & reshape to (48, 48, 1)\n",
    "        x = x_raw.str.split(expand=True).values.reshape(-1, 48, 48, 1).astype('int')\n",
    "        # One hot encoding\n",
    "        y = np_utils.to_categorical(y_raw)\n",
    "        # Add fliplr image to label 1\n",
    "        if horizontal_flip:\n",
    "            (x, y) = add_fliplr_image(x, y, y_raw, 1)\n",
    "        if shuffle_data:\n",
    "            (x, y) = shuffle(x, y)\n",
    "        \n",
    "        # Split validation set\n",
    "        if validation_split > 0.0 and validation_split <= 1.0:\n",
    "            valid_size = int(validation_split*len(x))\n",
    "            x_train = x[:-valid_size]\n",
    "            x_valid = x[-valid_size:]\n",
    "            y_train = y[:-valid_size]\n",
    "            y_valid = y[-valid_size:]\n",
    "        else:\n",
    "            x_train = x\n",
    "            y_train = y\n",
    "            x_valid = []\n",
    "            y_valid = []\n",
    "    else:\n",
    "        print(\"Error: No such file at %s\" % filepath)\n",
    "\n",
    "    return (x_train, y_train), (x_valid, y_valid), (x_raw, y_raw)\n",
    "   \n",
    "def get_testing_data():\n",
    "    filename = \"test.csv\"\n",
    "    filepath = DIRECTORY + filename\n",
    "\n",
    "    if os.path.exists(filepath):\n",
    "        data = pd.read_csv(filepath)\n",
    "        x_test = data[\"feature\"].str.split(expand=True).values.reshape(-1, 48, 48, 1).astype('int')\n",
    "        return x_test\n",
    "        \n",
    "def output_prediction(y_test, filename=\"output.csv\"):\n",
    "    arr = [[i, int(y_test[i])] for i in range(len(y_test))]\n",
    "    dw = pd.DataFrame(arr, columns = [\"id\", \"label\"])\n",
    "    dw.to_csv(filename, index=False)\n",
    "\n",
    "def normalize(x_set, norm_column=[]):\n",
    "    x_all = np.concatenate(x_set, axis=0)\n",
    "    mean = np.mean(x_all, axis=0)\n",
    "    std = np.std(x_all, axis=0)\n",
    "    \n",
    "    for x in x_set:\n",
    "        for column in norm_column:\n",
    "            x[:, column] = np.subtract(x[:, column], mean[column])\n",
    "            x[:, column] = np.true_divide(x[:, column], std[column])\n",
    "            \n",
    "    return x_set\n",
    "\n",
    "def add_fliplr_image(x_train, y_train, y_raw, label):\n",
    "    index = y_raw[y_raw == label].index\n",
    "    category = np_utils.to_categorical([label], 7)\n",
    "    total_categories = np.repeat(category, len(index), axis=0)\n",
    "    total_images = np.empty((0, 48, 48, 1), int)\n",
    "\n",
    "    for i in index:\n",
    "        image = np.fliplr(x_train[i]).reshape(1, 48, 48, 1)\n",
    "        total_images = np.append(total_images, image, axis=0)\n",
    "\n",
    "    x_train = np.concatenate((x_train, total_images), axis=0)\n",
    "    y_train = np.concatenate((y_train, total_categories), axis=0)\n",
    "    return (x_train, y_train)\n",
    "\n",
    "def shuffle(x_train, y_train):\n",
    "    seed = np.arange(x_train.shape[0])\n",
    "    np.random.shuffle(seed)\n",
    "    x_train = x_train[seed]\n",
    "    y_train = y_train[seed]\n",
    "    return (x_train, y_train)"
   ]
  },
  {
   "cell_type": "code",
   "execution_count": 93,
   "metadata": {
    "scrolled": true
   },
   "outputs": [],
   "source": [
    "# Plot\n",
    "def show_train_history(train_history, train, validation):\n",
    "    plt.plot(train_history.history[train])\n",
    "    plt.plot(train_history.history[validation])\n",
    "    plt.title(\"Train History\")\n",
    "    plt.ylabel(\"train\")\n",
    "    plt.xlabel(\"Epoch\")\n",
    "    plt.legend([\"train\", \"validation\"], loc=\"center right\")\n",
    "    plt.show()"
   ]
  },
  {
   "cell_type": "code",
   "execution_count": 218,
   "metadata": {},
   "outputs": [],
   "source": [
    "(x_train, y_train), (x_valid, y_valid), (x_raw, y_raw) = get_training_data(\n",
    "    horizontal_flip=True,\n",
    "    shuffle_data=True,\n",
    "    validation_split=0.1)\n",
    "\n",
    "x_test = get_testing_data()"
   ]
  },
  {
   "cell_type": "code",
   "execution_count": 219,
   "metadata": {},
   "outputs": [],
   "source": [
    "# Transform to 0 to 1\n",
    "x_train = x_train / 255\n",
    "x_test = x_test / 255\n",
    "if len(x_valid) > 0:\n",
    "    x_valid = x_valid / 255"
   ]
  },
  {
   "cell_type": "code",
   "execution_count": 220,
   "metadata": {},
   "outputs": [],
   "source": [
    "# Normalization\n",
    "if len(x_valid) > 0:\n",
    "    x_total = np.concatenate((x_train, x_valid, x_test))\n",
    "else:\n",
    "    x_total = np.concatenate((x_train, x_test))\n",
    "mean = np.mean(x_total)\n",
    "std = np.std(x_total)\n",
    "\n",
    "x_train = (x_train - mean) / std\n",
    "x_test = (x_test - mean) / std\n",
    "if len(x_valid) > 0:\n",
    "    x_valid = (x_valid - mean) / std"
   ]
  },
  {
   "cell_type": "code",
   "execution_count": null,
   "metadata": {},
   "outputs": [],
   "source": [
    "# Image generator for data augmentation\n",
    "train_gen = ImageDataGenerator(\n",
    "    zca_whitening=False,\n",
    "    rotation_range=20,\n",
    "    width_shift_range=0.2,\n",
    "    height_shift_range=0.2,\n",
    "    shear_range=0.1,\n",
    "    zoom_range=0.2,\n",
    "    horizontal_flip=True,\n",
    "    fill_mode=\"nearest\")\n",
    "\n",
    "train_gen.fit(x_train)"
   ]
  },
  {
   "cell_type": "code",
   "execution_count": 206,
   "metadata": {
    "scrolled": true
   },
   "outputs": [
    {
     "name": "stdout",
     "output_type": "stream",
     "text": [
      "高興\n"
     ]
    },
    {
     "data": {
      "image/png": "[encoded data removed]",
      "text/plain": [
       "<Figure size 432x288 with 1 Axes>"
      ]
     },
     "metadata": {},
     "output_type": "display_data"
    }
   ],
   "source": [
    "index = 28\n",
    "print(LABEL_MAP[np.argmax(y_train[index])])\n",
    "plt.imshow(x_train[index].reshape(48, 48))\n",
    "plt.show()"
   ]
  },
  {
   "cell_type": "code",
   "execution_count": 237,
   "metadata": {
    "scrolled": true
   },
   "outputs": [
    {
     "name": "stdout",
     "output_type": "stream",
     "text": [
      "_________________________________________________________________\n",
      "Layer (type)                 Output Shape              Param #   \n",
      "=================================================================\n",
      "conv2d_109 (Conv2D)          (None, 44, 44, 64)        1664      \n",
      "_________________________________________________________________\n",
      "max_pooling2d_63 (MaxPooling (None, 20, 20, 64)        0         \n",
      "_________________________________________________________________\n",
      "conv2d_110 (Conv2D)          (None, 18, 18, 64)        36928     \n",
      "_________________________________________________________________\n",
      "conv2d_111 (Conv2D)          (None, 16, 16, 64)        36928     \n",
      "_________________________________________________________________\n",
      "max_pooling2d_64 (MaxPooling (None, 7, 7, 64)          0         \n",
      "_________________________________________________________________\n",
      "conv2d_112 (Conv2D)          (None, 5, 5, 128)         73856     \n",
      "_________________________________________________________________\n",
      "conv2d_113 (Conv2D)          (None, 3, 3, 128)         147584    \n",
      "_________________________________________________________________\n",
      "max_pooling2d_65 (MaxPooling (None, 1, 1, 128)         0         \n",
      "_________________________________________________________________\n",
      "flatten_15 (Flatten)         (None, 128)               0         \n",
      "_________________________________________________________________\n",
      "dense_43 (Dense)             (None, 1024)              132096    \n",
      "_________________________________________________________________\n",
      "dropout_29 (Dropout)         (None, 1024)              0         \n",
      "_________________________________________________________________\n",
      "dense_44 (Dense)             (None, 512)               524800    \n",
      "_________________________________________________________________\n",
      "dropout_30 (Dropout)         (None, 512)               0         \n",
      "_________________________________________________________________\n",
      "dense_45 (Dense)             (None, 7)                 3591      \n",
      "=================================================================\n",
      "Total params: 957,447\n",
      "Trainable params: 957,447\n",
      "Non-trainable params: 0\n",
      "_________________________________________________________________\n"
     ]
    }
   ],
   "source": [
    "# \n",
    "model = Sequential()\n",
    "\n",
    "# CNN\n",
    "# input shape (1, 48, 48)\n",
    "# model.add(Conv2D(64, (3, 3), input_shape=(48, 48, 1), kernel_initializer=\"glorot_normal\"))\n",
    "# model.add(PReLU())\n",
    "# model.add(MaxPooling2D((2, 2)))\n",
    "# model.add(Conv2D(128, (3, 3), kernel_initializer=\"glorot_normal\"))\n",
    "# model.add(PReLU())\n",
    "# model.add(Conv2D(128, (3, 3), kernel_initializer=\"glorot_normal\"))\n",
    "# model.add(PReLU())\n",
    "# model.add(MaxPooling2D((2, 2)))\n",
    "# model.add(Flatten())\n",
    "\n",
    "model.add(Conv2D(64, 5, input_shape=(48, 48, 1), kernel_initializer=\"glorot_normal\", activation=\"relu\"))\n",
    "# model.add(PReLU())\n",
    "model.add(MaxPooling2D(5, strides=2))\n",
    "model.add(Conv2D(64, 3, kernel_initializer=\"glorot_normal\", activation=\"relu\"))\n",
    "# model.add(PReLU())\n",
    "model.add(Conv2D(64, 3, kernel_initializer=\"glorot_normal\", activation=\"relu\"))\n",
    "# model.add(PReLU())\n",
    "model.add(MaxPooling2D(3, strides=2))\n",
    "model.add(Conv2D(128, 3, kernel_initializer=\"glorot_normal\", activation=\"relu\"))\n",
    "# model.add(PReLU())\n",
    "model.add(Conv2D(128, 3, kernel_initializer=\"glorot_normal\", activation=\"relu\"))\n",
    "# model.add(PReLU())\n",
    "model.add(MaxPooling2D(3, strides=2))\n",
    "model.add(Flatten())\n",
    "\n",
    "# DNN\n",
    "model.add(Dense(units=1024, kernel_initializer=\"glorot_normal\", activation=\"relu\"))\n",
    "# model.add(Dense(units=128, activation=\"relu\",\n",
    "#                kernel_regularizer=regularizers.l2(0.01)))\n",
    "model.add(Dropout(0.5))\n",
    "model.add(Dense(units=512, kernel_initializer=\"glorot_normal\", activation=\"relu\"))\n",
    "model.add(Dropout(0.5))\n",
    "\n",
    "# Output layer\n",
    "model.add(Dense(units=7,activation=\"softmax\"))\n",
    "model.summary()"
   ]
  },
  {
   "cell_type": "code",
   "execution_count": null,
   "metadata": {
    "scrolled": true
   },
   "outputs": [],
   "source": [
    "# Load model\n",
    "model_name = MODEL_DIRECTORY + \"cnn.h5\"\n",
    "model = load_model(model_name)"
   ]
  },
  {
   "cell_type": "code",
   "execution_count": 238,
   "metadata": {},
   "outputs": [],
   "source": [
    "# Checkpoint\n",
    "checkpoint_name = MODEL_DIRECTORY + \"checkpoint\" + datetime.datetime.now().strftime(\"%Y%m%d%H%M%S\") + \".h5\" \n",
    "checkpoint = ModelCheckpoint(checkpoint_name, monitor=\"val_acc\", verbose=1, save_best_only=True, mode=\"max\")"
   ]
  },
  {
   "cell_type": "code",
   "execution_count": 239,
   "metadata": {
    "scrolled": false
   },
   "outputs": [
    {
     "name": "stdout",
     "output_type": "stream",
     "text": [
      "Train on 26231 samples, validate on 2914 samples\n",
      "Epoch 1/20\n",
      "26112/26231 [============================>.] - ETA: 0s - loss: 1.7800 - acc: 0.2724Epoch 00000: val_acc improved from -inf to 0.34454, saving model to model/checkpoint20180413153026.h5\n",
      "26231/26231 [==============================] - 106s - loss: 1.7789 - acc: 0.2727 - val_loss: 1.6364 - val_acc: 0.3445\n",
      "Epoch 2/20\n",
      "26112/26231 [============================>.] - ETA: 0s - loss: 1.5174 - acc: 0.4094Epoch 00001: val_acc improved from 0.34454 to 0.43892, saving model to model/checkpoint20180413153026.h5\n",
      "26231/26231 [==============================] - 105s - loss: 1.5167 - acc: 0.4096 - val_loss: 1.4300 - val_acc: 0.4389\n",
      "Epoch 3/20\n",
      "26112/26231 [============================>.] - ETA: 0s - loss: 1.3735 - acc: 0.4731Epoch 00002: val_acc improved from 0.43892 to 0.48662, saving model to model/checkpoint20180413153026.h5\n",
      "26231/26231 [==============================] - 105s - loss: 1.3736 - acc: 0.4729 - val_loss: 1.3266 - val_acc: 0.4866\n",
      "Epoch 4/20\n",
      "26112/26231 [============================>.] - ETA: 0s - loss: 1.2843 - acc: 0.5075Epoch 00003: val_acc improved from 0.48662 to 0.49897, saving model to model/checkpoint20180413153026.h5\n",
      "26231/26231 [==============================] - 105s - loss: 1.2842 - acc: 0.5076 - val_loss: 1.3240 - val_acc: 0.4990\n",
      "Epoch 5/20\n",
      "26112/26231 [============================>.] - ETA: 0s - loss: 1.2213 - acc: 0.5372Epoch 00004: val_acc improved from 0.49897 to 0.51819, saving model to model/checkpoint20180413153026.h5\n",
      "26231/26231 [==============================] - 105s - loss: 1.2224 - acc: 0.5370 - val_loss: 1.2551 - val_acc: 0.5182\n",
      "Epoch 6/20\n",
      "26112/26231 [============================>.] - ETA: 0s - loss: 1.1710 - acc: 0.5558Epoch 00005: val_acc improved from 0.51819 to 0.52711, saving model to model/checkpoint20180413153026.h5\n",
      "26231/26231 [==============================] - 105s - loss: 1.1714 - acc: 0.5557 - val_loss: 1.2515 - val_acc: 0.5271\n",
      "Epoch 7/20\n",
      "26112/26231 [============================>.] - ETA: 0s - loss: 1.1173 - acc: 0.5783Epoch 00006: val_acc improved from 0.52711 to 0.54393, saving model to model/checkpoint20180413153026.h5\n",
      "26231/26231 [==============================] - 105s - loss: 1.1172 - acc: 0.5783 - val_loss: 1.2091 - val_acc: 0.5439\n",
      "Epoch 8/20\n",
      "26112/26231 [============================>.] - ETA: 0s - loss: 1.0680 - acc: 0.5970Epoch 00007: val_acc improved from 0.54393 to 0.54461, saving model to model/checkpoint20180413153026.h5\n",
      "26231/26231 [==============================] - 105s - loss: 1.0681 - acc: 0.5970 - val_loss: 1.2015 - val_acc: 0.5446\n",
      "Epoch 9/20\n",
      "26112/26231 [============================>.] - ETA: 0s - loss: 1.0253 - acc: 0.6124Epoch 00008: val_acc did not improve\n",
      "26231/26231 [==============================] - 104s - loss: 1.0253 - acc: 0.6125 - val_loss: 1.2145 - val_acc: 0.5412\n",
      "Epoch 10/20\n",
      "26112/26231 [============================>.] - ETA: 0s - loss: 0.9636 - acc: 0.6382Epoch 00009: val_acc did not improve\n",
      "26231/26231 [==============================] - 106s - loss: 0.9634 - acc: 0.6384 - val_loss: 1.2658 - val_acc: 0.5395\n",
      "Epoch 11/20\n",
      "26112/26231 [============================>.] - ETA: 0s - loss: 0.9212 - acc: 0.6596Epoch 00010: val_acc did not improve\n",
      "26231/26231 [==============================] - 104s - loss: 0.9224 - acc: 0.6591 - val_loss: 1.2632 - val_acc: 0.5405\n",
      "Epoch 12/20\n",
      "26112/26231 [============================>.] - ETA: 0s - loss: 0.8641 - acc: 0.6778Epoch 00011: val_acc improved from 0.54461 to 0.55800, saving model to model/checkpoint20180413153026.h5\n",
      "26231/26231 [==============================] - 105s - loss: 0.8643 - acc: 0.6779 - val_loss: 1.2392 - val_acc: 0.5580\n",
      "Epoch 13/20\n",
      "26112/26231 [============================>.] - ETA: 0s - loss: 0.8153 - acc: 0.6973Epoch 00012: val_acc did not improve\n",
      "26231/26231 [==============================] - 104s - loss: 0.8157 - acc: 0.6970 - val_loss: 1.2722 - val_acc: 0.5450\n",
      "Epoch 14/20\n",
      "26112/26231 [============================>.] - ETA: 0s - loss: 0.7695 - acc: 0.7132Epoch 00013: val_acc did not improve\n",
      "26231/26231 [==============================] - 104s - loss: 0.7698 - acc: 0.7132 - val_loss: 1.3442 - val_acc: 0.5453\n",
      "Epoch 15/20\n",
      "26112/26231 [============================>.] - ETA: 0s - loss: 0.7228 - acc: 0.7323Epoch 00014: val_acc did not improve\n",
      "26231/26231 [==============================] - 104s - loss: 0.7227 - acc: 0.7321 - val_loss: 1.3481 - val_acc: 0.5573\n",
      "Epoch 16/20\n",
      "26112/26231 [============================>.] - ETA: 0s - loss: 0.6708 - acc: 0.7491Epoch 00015: val_acc did not improve\n",
      "26231/26231 [==============================] - 104s - loss: 0.6712 - acc: 0.7489 - val_loss: 1.4410 - val_acc: 0.5487\n",
      "Epoch 17/20\n",
      "26112/26231 [============================>.] - ETA: 0s - loss: 0.6295 - acc: 0.7693Epoch 00016: val_acc did not improve\n",
      "26231/26231 [==============================] - 104s - loss: 0.6291 - acc: 0.7694 - val_loss: 1.4955 - val_acc: 0.5535\n",
      "Epoch 18/20\n",
      "26112/26231 [============================>.] - ETA: 0s - loss: 0.5930 - acc: 0.7829Epoch 00017: val_acc did not improve\n",
      "26231/26231 [==============================] - 104s - loss: 0.5928 - acc: 0.7831 - val_loss: 1.5184 - val_acc: 0.5563\n",
      "Epoch 19/20\n",
      "26112/26231 [============================>.] - ETA: 0s - loss: 0.5560 - acc: 0.7970Epoch 00018: val_acc improved from 0.55800 to 0.55868, saving model to model/checkpoint20180413153026.h5\n",
      "26231/26231 [==============================] - 105s - loss: 0.5559 - acc: 0.7970 - val_loss: 1.5354 - val_acc: 0.5587\n",
      "Epoch 20/20\n",
      "26112/26231 [============================>.] - ETA: 0s - loss: 0.5025 - acc: 0.8185Epoch 00019: val_acc improved from 0.55868 to 0.55903, saving model to model/checkpoint20180413153026.h5\n",
      "26231/26231 [==============================] - 104s - loss: 0.5024 - acc: 0.8185 - val_loss: 1.6499 - val_acc: 0.5590\n"
     ]
    }
   ],
   "source": [
    "# Training\n",
    "epochs = 20\n",
    "batch_size = 128\n",
    "steps_per_epoch = int((x_train.shape[0]*5)/batch_size)\n",
    "\n",
    "model.compile(loss=\"categorical_crossentropy\", optimizer=\"adam\", metrics=['accuracy'])\n",
    "train_history2 = model.fit(x_train, y_train, validation_data=(x_valid, y_valid), batch_size=batch_size, epochs=epochs, callbacks=[checkpoint])\n",
    "# train_history = model.fit_generator(\n",
    "#     train_gen.flow(x_train, y_train, batch_size=batch_size),\n",
    "#     steps_per_epoch=steps_per_epoch,\n",
    "#     epochs=epochs,\n",
    "#     validation_data=(x_valid, y_valid),\n",
    "#     callbacks=[checkpoint])"
   ]
  },
  {
   "cell_type": "code",
   "execution_count": 240,
   "metadata": {
    "scrolled": true
   },
   "outputs": [
    {
     "data": {
      "image/png": "[encoded data removed]",
      "text/plain": [
       "<Figure size 432x288 with 1 Axes>"
      ]
     },
     "metadata": {},
     "output_type": "display_data"
    },
    {
     "data": {
      "image/png": "[encoded data removed]",
      "text/plain": [
       "<Figure size 432x288 with 1 Axes>"
      ]
     },
     "metadata": {},
     "output_type": "display_data"
    }
   ],
   "source": [
    "# Training history\n",
    "show_train_history(train_history, 'acc', 'val_acc')\n",
    "show_train_history(train_history, 'loss', 'val_loss')"
   ]
  },
  {
   "cell_type": "code",
   "execution_count": null,
   "metadata": {},
   "outputs": [],
   "source": [
    "# Load checkpoint model\n",
    "model = load_model(checkpoint_name)"
   ]
  },
  {
   "cell_type": "code",
   "execution_count": 241,
   "metadata": {},
   "outputs": [
    {
     "name": "stdout",
     "output_type": "stream",
     "text": [
      "2912/2914 [============================>.] - ETA: 0s"
     ]
    },
    {
     "data": {
      "text/plain": [
       "[1.6499171212837151, 0.559025394646534]"
      ]
     },
     "execution_count": 241,
     "metadata": {},
     "output_type": "execute_result"
    }
   ],
   "source": [
    "model.evaluate(x_valid, y_valid)"
   ]
  },
  {
   "cell_type": "code",
   "execution_count": null,
   "metadata": {
    "scrolled": true
   },
   "outputs": [
    {
     "name": "stdout",
     "output_type": "stream",
     "text": [
      "22880/26231 [=========================>....] - ETA: 4s"
     ]
    }
   ],
   "source": [
    "# Confusion matrix\n",
    "prediction = model.predict_classes(x_train)\n",
    "print(y_valid.shape)\n",
    "y_categories = np.argmax(y_train, axis=1)\n",
    "pd.crosstab(y_categories, prediction, rownames=[\"label\"], colnames=[\"predict\"])"
   ]
  },
  {
   "cell_type": "code",
   "execution_count": 118,
   "metadata": {},
   "outputs": [],
   "source": [
    "prob = model.predict(x_test)\n",
    "y_test = np.argmax(prob, axis=1)"
   ]
  },
  {
   "cell_type": "code",
   "execution_count": 236,
   "metadata": {
    "scrolled": true
   },
   "outputs": [
    {
     "name": "stdout",
     "output_type": "stream",
     "text": [
      "中立\n"
     ]
    },
    {
     "data": {
      "image/png": "[encoded data removed]",
      "text/plain": [
       "<Figure size 432x288 with 1 Axes>"
      ]
     },
     "metadata": {},
     "output_type": "display_data"
    }
   ],
   "source": [
    "index = 95\n",
    "print(LABEL_MAP[y_test[index]])\n",
    "plt.imshow(x_test[index].reshape(48, 48))\n",
    "plt.show()"
   ]
  },
  {
   "cell_type": "code",
   "execution_count": null,
   "metadata": {},
   "outputs": [],
   "source": [
    "output_prediction(y_test, \"cnn.csv\")"
   ]
  }
 ],
 "metadata": {
  "kernelspec": {
   "display_name": "Python 3",
   "language": "python",
   "name": "python3"
  },
  "language_info": {
   "codemirror_mode": {
    "name": "ipython",
    "version": 3
   },
   "file_extension": ".py",
   "mimetype": "text/x-python",
   "name": "python",
   "nbconvert_exporter": "python",
   "pygments_lexer": "ipython3",
   "version": "3.5.2"
  }
 },
 "nbformat": 4,
 "nbformat_minor": 2
}
