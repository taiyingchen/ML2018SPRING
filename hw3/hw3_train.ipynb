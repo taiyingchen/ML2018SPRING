{
 "cells": [
  {
   "cell_type": "code",
   "execution_count": null,
   "metadata": {},
   "outputs": [],
   "source": [
    "# -*- coding: utf-8 -*-\n",
    "import numpy as np\n",
    "import pandas as pd\n",
    "from PIL import Image\n",
    "import os.path\n",
    "\n",
    "# Keras\n",
    "from keras.utils import np_utils\n",
    "from keras.models import Sequential\n",
    "from keras.layers import Dense, Dropout, Activation, Conv2D, MaxPooling2D, Flatten\n",
    "\n",
    "# Image preview\n",
    "import matplotlib.pyplot as plt\n",
    "% matplotlib inline\n",
    "\n",
    "# Numpy print full array\n",
    "np.set_printoptions(threshold=np.inf)\n",
    "\n",
    "# Constants\n",
    "DIRECTORY = \"ml-2018spring-hw3/\"\n",
    "\n",
    "# Parameters"
   ]
  },
  {
   "cell_type": "code",
   "execution_count": null,
   "metadata": {
    "scrolled": true
   },
   "outputs": [],
   "source": [
    "# Functions\n",
    "# def extract_feature(x):\n",
    "\n",
    "\n",
    "def get_training_data(valid_size=0):\n",
    "    filename = \"train.csv\"\n",
    "    filepath = DIRECTORY + filename\n",
    "\n",
    "    if os.path.exists(filepath):\n",
    "        data = pd.read_csv(filepath)\n",
    "        x_raw = data[\"feature\"]\n",
    "        y_raw = data[\"label\"]\n",
    "        \n",
    "        \n",
    "        #  Split features into array & reshape to (48, 48, 1)\n",
    "        x = x_raw.str.split(expand=True).values.reshape(-1, 48, 48, 1).astype('int')\n",
    "        # One hot encoding\n",
    "        y = np_utils.to_categorical(y_raw)\n",
    "        \n",
    "        # Split validation set\n",
    "        if valid_size > 0:\n",
    "            x_train = x[:-valid_size]\n",
    "            x_valid = x[-valid_size:]\n",
    "            y_train = y[:-valid_size]\n",
    "            y_valid = y[-valid_size:]\n",
    "        else:\n",
    "            x_train = x\n",
    "            y_train = y\n",
    "            x_valid = []\n",
    "            y_valid = []\n",
    "    else:\n",
    "        print(\"Error: No such file at %s\" % filepath)\n",
    "\n",
    "    return (x_train, y_train), (x_valid, y_valid)\n",
    "        \n",
    "def get_accuracy(y_hypo, y):\n",
    "    return len(y_hypo[y_hypo==y]) / len(y_hypo)\n",
    "    \n",
    "def get_testing_data(original):\n",
    "    if original:\n",
    "        filename = \"test.csv\"\n",
    "        # TODO\n",
    "    else:\n",
    "        filename = \"test_X\"\n",
    "    filepath = DIRECTORY + filename\n",
    "\n",
    "    if os.path.exists(filepath):\n",
    "        x = pd.read_csv(filepath, dtype=float).as_matrix()\n",
    "        return x\n",
    "        \n",
    "def output_prediction(y_test, filename=\"output.csv\"):\n",
    "    arr = [[i+1, int(y_test[i])] for i in range(len(y_test))]\n",
    "    dw = pd.DataFrame(arr, columns = [\"id\", \"label\"])\n",
    "    dw.to_csv(filename, index=False)\n",
    "\n",
    "def normalize(x_set, norm_column=[]):\n",
    "    x_all = np.concatenate(x_set, axis=0)\n",
    "    mean = np.mean(x_all, axis=0)\n",
    "    std = np.std(x_all, axis=0)\n",
    "    \n",
    "    for x in x_set:\n",
    "        for column in norm_column:\n",
    "            x[:, column] = np.subtract(x[:, column], mean[column])\n",
    "            x[:, column] = np.true_divide(x[:, column], std[column])\n",
    "            \n",
    "    return x_set"
   ]
  },
  {
   "cell_type": "code",
   "execution_count": null,
   "metadata": {
    "scrolled": true
   },
   "outputs": [],
   "source": [
    "(x_train, y_train), (x_valid, y_valid) = get_training_data()"
   ]
  },
  {
   "cell_type": "code",
   "execution_count": null,
   "metadata": {},
   "outputs": [],
   "source": [
    "# Normalization\n",
    "x_train = x_train / 255\n",
    "x_valid = x_valid / 255"
   ]
  },
  {
   "cell_type": "code",
   "execution_count": null,
   "metadata": {},
   "outputs": [],
   "source": [
    "plt.imshow(x_train[17])\n",
    "plt.show()"
   ]
  },
  {
   "cell_type": "code",
   "execution_count": null,
   "metadata": {
    "scrolled": false
   },
   "outputs": [],
   "source": [
    "model = Sequential()\n",
    "\n",
    "# CNN\n",
    "# input shape (1, 48, 48)\n",
    "model.add(Conv2D(25, (5, 5), input_shape=(48, 48, 1)))\n",
    "model.add(MaxPooling2D((2, 2)))\n",
    "model.add(Conv2D(36, (3, 3)))\n",
    "model.add(MaxPooling2D((2, 2)))\n",
    "model.add(Flatten())\n",
    "\n",
    "# DNN\n",
    "model.add(Dense(units=50, activation=\"relu\"))\n",
    "# model.add(Dropout(0.6))\n",
    "# model.add(Dense(units=50, activation=\"relu\"))\n",
    "# model.add(Dropout(0.6))\n",
    "\n",
    "# Output layer\n",
    "model.add(Dense(units=7, activation=\"softmax\"))\n",
    "\n",
    "model.compile(loss=\"categorical_crossentropy\", optimizer=\"adam\", metrics=['accuracy'])\n",
    "model.fit(x_train, y_train, batch_size=1000, epochs=3)\n",
    "\n",
    "# score = model.evaluate(x_valid, y_valid)\n",
    "# print('Total loss on Testing Set:', score[0])\n",
    "# print('Accuracy of Testing Set:', score[1])\n",
    "\n",
    "# y_test = model.predict(x_test)\n",
    "# prob = np.argmax(y_test, axis=1)\n",
    "# output_prediction(prob , \"best.csv\")"
   ]
  }
 ],
 "metadata": {
  "kernelspec": {
   "display_name": "Python 3",
   "language": "python",
   "name": "python3"
  },
  "language_info": {
   "codemirror_mode": {
    "name": "ipython",
    "version": 3
   },
   "file_extension": ".py",
   "mimetype": "text/x-python",
   "name": "python",
   "nbconvert_exporter": "python",
   "pygments_lexer": "ipython3",
   "version": "3.6.4"
  }
 },
 "nbformat": 4,
 "nbformat_minor": 2
}
