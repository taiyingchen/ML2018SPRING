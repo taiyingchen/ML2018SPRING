{
 "cells": [
  {
   "cell_type": "code",
   "execution_count": null,
   "metadata": {
    "scrolled": true
   },
   "outputs": [],
   "source": [
    "# -*- coding: utf-8 -*-\n",
    "import numpy as np\n",
    "import pandas as pd\n",
    "from PIL import Image\n",
    "import os.path\n",
    "import datetime\n",
    "\n",
    "# Keras\n",
    "from keras.utils import np_utils\n",
    "from keras.models import Sequential, load_model\n",
    "from keras.layers import Dense, Dropout, Activation, Conv2D, MaxPooling2D, Flatten, PReLU, ZeroPadding2D, AveragePooling2D\n",
    "from keras import regularizers\n",
    "from keras.preprocessing.image import ImageDataGenerator\n",
    "from keras.callbacks import ModelCheckpoint\n",
    "\n",
    "# Image preview\n",
    "import matplotlib.pyplot as plt\n",
    "% matplotlib inline\n",
    "\n",
    "# Numpy print full array\n",
    "np.set_printoptions(threshold=np.inf)\n",
    "\n",
    "# Constants\n",
    "DIRECTORY = \"ml-2018spring-hw3/\"\n",
    "MODEL_DIRECTORY = \"model/\"\n",
    "LABEL_MAP = {0: '生氣', 1: '厭惡', 2: '恐懼', 3: '高興', 4: '難過', 5: '驚訝', 6: '中立'}\n",
    "# Parameters"
   ]
  },
  {
   "cell_type": "code",
   "execution_count": null,
   "metadata": {},
   "outputs": [],
   "source": [
    "# Functions\n",
    "def get_training_data(horizontal_flip=False, shuffle_data=False, validation_split=0.0):\n",
    "    filename = \"train.csv\"\n",
    "    filepath = DIRECTORY + filename\n",
    "\n",
    "    if os.path.exists(filepath):\n",
    "        data = pd.read_csv(filepath)\n",
    "        x_raw = data[\"feature\"]\n",
    "        y_raw = data[\"label\"]\n",
    "        \n",
    "        \n",
    "        #  Split features into array & reshape to (48, 48, 1)\n",
    "        x = x_raw.str.split(expand=True).values.reshape(-1, 48, 48, 1).astype('int')\n",
    "        # One hot encoding\n",
    "        y = np_utils.to_categorical(y_raw)\n",
    "        # Add fliplr image to label 1\n",
    "        if horizontal_flip:\n",
    "            (x, y) = add_fliplr_image(x, y, y_raw, 1)\n",
    "        if shuffle_data:\n",
    "            (x, y) = shuffle(x, y)\n",
    "        \n",
    "        # Split validation set\n",
    "        if validation_split > 0.0 and validation_split <= 1.0:\n",
    "            valid_size = int(validation_split*len(x))\n",
    "            x_train = x[:-valid_size]\n",
    "            x_valid = x[-valid_size:]\n",
    "            y_train = y[:-valid_size]\n",
    "            y_valid = y[-valid_size:]\n",
    "        else:\n",
    "            x_train = x\n",
    "            y_train = y\n",
    "            x_valid = []\n",
    "            y_valid = []\n",
    "    else:\n",
    "        print(\"Error: No such file at %s\" % filepath)\n",
    "\n",
    "    return (x_train, y_train), (x_valid, y_valid), (x_raw, y_raw)\n",
    "   \n",
    "def get_testing_data():\n",
    "    filename = \"test.csv\"\n",
    "    filepath = DIRECTORY + filename\n",
    "\n",
    "    if os.path.exists(filepath):\n",
    "        data = pd.read_csv(filepath)\n",
    "        x_test = data[\"feature\"].str.split(expand=True).values.reshape(-1, 48, 48, 1).astype('int')\n",
    "        return x_test\n",
    "        \n",
    "def output_prediction(y_test, filename=\"output.csv\"):\n",
    "    arr = [[i, int(y_test[i])] for i in range(len(y_test))]\n",
    "    dw = pd.DataFrame(arr, columns = [\"id\", \"label\"])\n",
    "    dw.to_csv(filename, index=False)\n",
    "\n",
    "def add_fliplr_image(x_train, y_train, y_raw, label):\n",
    "    index = y_raw[y_raw == label].index\n",
    "    category = np_utils.to_categorical([label], 7)\n",
    "    total_categories = np.repeat(category, len(index), axis=0)\n",
    "    total_images = np.empty((0, 48, 48, 1), int)\n",
    "\n",
    "    for i in index:\n",
    "        image = np.fliplr(x_train[i]).reshape(1, 48, 48, 1)\n",
    "        total_images = np.append(total_images, image, axis=0)\n",
    "\n",
    "    x_train = np.concatenate((x_train, total_images), axis=0)\n",
    "    y_train = np.concatenate((y_train, total_categories), axis=0)\n",
    "    return (x_train, y_train)\n",
    "\n",
    "def shuffle(x_train, y_train):\n",
    "    seed = np.arange(x_train.shape[0])\n",
    "    np.random.shuffle(seed)\n",
    "    x_train = x_train[seed]\n",
    "    y_train = y_train[seed]\n",
    "    return (x_train, y_train)"
   ]
  },
  {
   "cell_type": "code",
   "execution_count": null,
   "metadata": {
    "scrolled": true
   },
   "outputs": [],
   "source": [
    "# Plot\n",
    "def show_train_history(train_history, train, validation):\n",
    "    plt.plot(train_history.history[train])\n",
    "    plt.plot(train_history.history[validation])\n",
    "    plt.title(\"Train History\")\n",
    "    plt.ylabel(\"train\")\n",
    "    plt.xlabel(\"Epoch\")\n",
    "    plt.legend([\"train\", \"validation\"], loc=\"center right\")\n",
    "    plt.show()"
   ]
  },
  {
   "cell_type": "code",
   "execution_count": null,
   "metadata": {},
   "outputs": [],
   "source": [
    "(x_train, y_train), (x_valid, y_valid), (x_raw, y_raw) = get_training_data(\n",
    "    horizontal_flip=False,\n",
    "    shuffle_data=False,\n",
    "    validation_split=0.1)\n",
    "\n",
    "x_test = get_testing_data()"
   ]
  },
  {
   "cell_type": "code",
   "execution_count": null,
   "metadata": {},
   "outputs": [],
   "source": [
    "# Transform to 0 to 1\n",
    "x_train = x_train / 255\n",
    "x_test = x_test / 255\n",
    "if len(x_valid) > 0:\n",
    "    x_valid = x_valid / 255"
   ]
  },
  {
   "cell_type": "code",
   "execution_count": null,
   "metadata": {},
   "outputs": [],
   "source": [
    "# Normalization\n",
    "if len(x_valid) > 0:\n",
    "    x_total = np.concatenate((x_train, x_valid, x_test))\n",
    "else:\n",
    "    x_total = np.concatenate((x_train, x_test))\n",
    "mean = np.mean(x_total)\n",
    "std = np.std(x_total)\n",
    "\n",
    "x_train = (x_train - mean) / std\n",
    "x_test = (x_test - mean) / std\n",
    "if len(x_valid) > 0:\n",
    "    x_valid = (x_valid - mean) / std"
   ]
  },
  {
   "cell_type": "code",
   "execution_count": null,
   "metadata": {},
   "outputs": [],
   "source": [
    "# Image generator for data augmentation\n",
    "train_gen = ImageDataGenerator(\n",
    "    zca_whitening=False,\n",
    "    rotation_range=20,\n",
    "    width_shift_range=0.2,\n",
    "    height_shift_range=0.2,\n",
    "    shear_range=0.1,\n",
    "    zoom_range=0.2,\n",
    "    horizontal_flip=True,\n",
    "    fill_mode=\"nearest\")\n",
    "\n",
    "train_gen.fit(x_train)"
   ]
  },
  {
   "cell_type": "code",
   "execution_count": null,
   "metadata": {
    "scrolled": true
   },
   "outputs": [],
   "source": [
    "index = 28\n",
    "print(LABEL_MAP[np.argmax(y_train[index])])\n",
    "plt.imshow(x_train[index].reshape(48, 48))\n",
    "plt.show()"
   ]
  },
  {
   "cell_type": "code",
   "execution_count": null,
   "metadata": {
    "scrolled": true
   },
   "outputs": [],
   "source": [
    "# Model configuration\n",
    "model = Sequential()\n",
    "\n",
    "# CNN\n",
    "model.add(Conv2D(64, 5, input_shape=(48, 48, 1), activation=\"relu\", padding=\"same\"))\n",
    "# model.add(PReLU())\n",
    "model.add(MaxPooling2D(5, strides=2, padding=\"same\"))\n",
    "model.add(Conv2D(64, 3, activation=\"relu\", padding=\"same\"))\n",
    "# model.add(PReLU())\n",
    "model.add(Conv2D(64, 3, activation=\"relu\", padding=\"same\"))\n",
    "# model.add(PReLU())\n",
    "model.add(AveragePooling2D(3, strides=2))\n",
    "model.add(Conv2D(128, 3, activation=\"relu\", padding=\"same\"))\n",
    "# model.add(PReLU())\n",
    "model.add(Conv2D(128, 3, activation=\"relu\", padding=\"same\"))\n",
    "# model.add(PReLU())\n",
    "model.add(AveragePooling2D(3, strides=2))\n",
    "model.add(Flatten())\n",
    "\n",
    "# DNN\n",
    "model.add(Dense(units=1024, activation=\"relu\"))\n",
    "# model.add(Dense(units=128, activation=\"relu\",\n",
    "#                kernel_regularizer=regularizers.l2(0.01)))\n",
    "model.add(Dropout(0.5))\n",
    "model.add(Dense(units=512, activation=\"relu\"))\n",
    "model.add(Dropout(0.5))\n",
    "\n",
    "# Output layer\n",
    "model.add(Dense(units=7,activation=\"softmax\"))\n",
    "model.summary()"
   ]
  },
  {
   "cell_type": "code",
   "execution_count": null,
   "metadata": {
    "scrolled": true
   },
   "outputs": [],
   "source": [
    "# Model configuration\n",
    "model = Sequential()\n",
    "\n",
    "# CNN\n",
    "model.add(Conv2D(64, 5, input_shape=(48, 48, 1), kernel_initializer=\"glorot_normal\", padding=\"same\"))\n",
    "model.add(PReLU())\n",
    "model.add(MaxPooling2D(5, strides=2, padding=\"same\"))\n",
    "model.add(Conv2D(64, 3, kernel_initializer=\"glorot_normal\", padding=\"same\"))\n",
    "model.add(PReLU())\n",
    "model.add(Conv2D(64, 3, kernel_initializer=\"glorot_normal\", padding=\"same\"))\n",
    "model.add(PReLU())\n",
    "model.add(AveragePooling2D(3, strides=2))\n",
    "model.add(Conv2D(128, 3, kernel_initializer=\"glorot_normal\", padding=\"same\"))\n",
    "model.add(PReLU())\n",
    "model.add(Conv2D(128, 3, kernel_initializer=\"glorot_normal\", padding=\"same\"))\n",
    "model.add(PReLU())\n",
    "model.add(AveragePooling2D(3, strides=2))\n",
    "model.add(Flatten())\n",
    "\n",
    "# DNN\n",
    "model.add(Dense(units=1024, kernel_initializer=\"glorot_normal\"))\n",
    "model.add(PReLU())\n",
    "model.add(Dropout(0.5))\n",
    "model.add(Dense(units=512, kernel_initializer=\"glorot_normal\"))\n",
    "model.add(PReLU())\n",
    "model.add(Dropout(0.5))\n",
    "\n",
    "# Output layer\n",
    "model.add(Dense(units=7,activation=\"softmax\"))\n",
    "model.summary()"
   ]
  },
  {
   "cell_type": "code",
   "execution_count": null,
   "metadata": {
    "scrolled": true
   },
   "outputs": [],
   "source": [
    "# Load model\n",
    "model_name = MODEL_DIRECTORY + \"checkpoint20180415122140.h5\"\n",
    "model = load_model(model_name)"
   ]
  },
  {
   "cell_type": "code",
   "execution_count": null,
   "metadata": {},
   "outputs": [],
   "source": [
    "# Checkpoint\n",
    "checkpoint_name = MODEL_DIRECTORY + \"checkpoint\" + datetime.datetime.now().strftime(\"%Y%m%d%H%M%S\") + \".h5\"\n",
    "# checkpoint_name = model_name\n",
    "checkpoint = ModelCheckpoint(checkpoint_name, monitor=\"val_acc\", verbose=1, save_best_only=True, mode=\"max\")"
   ]
  },
  {
   "cell_type": "code",
   "execution_count": null,
   "metadata": {
    "scrolled": false
   },
   "outputs": [],
   "source": [
    "# Training\n",
    "epochs = 20\n",
    "batch_size = 128\n",
    "steps_per_epoch = (x_train.shape[0]*10) // batch_size\n",
    "\n",
    "model.compile(loss=\"categorical_crossentropy\", optimizer=\"adam\", metrics=['accuracy'])\n",
    "# train_history = model.fit(x_train, y_train, validation_data=(x_valid, y_valid), batch_size=batch_size, epochs=epochs, callbacks=[checkpoint])\n",
    "train_history = model.fit_generator(\n",
    "    train_gen.flow(x_train, y_train, batch_size=batch_size),\n",
    "    steps_per_epoch=steps_per_epoch,\n",
    "    epochs=epochs,\n",
    "    validation_data=(x_valid, y_valid),\n",
    "    callbacks=[checkpoint])"
   ]
  },
  {
   "cell_type": "code",
   "execution_count": null,
   "metadata": {
    "scrolled": false
   },
   "outputs": [],
   "source": [
    "# Training history\n",
    "show_train_history(train_history, 'acc', 'val_acc')\n",
    "show_train_history(train_history, 'loss', 'val_loss')"
   ]
  },
  {
   "cell_type": "code",
   "execution_count": null,
   "metadata": {},
   "outputs": [],
   "source": [
    "# Load checkpoint model\n",
    "model = load_model(checkpoint_name)"
   ]
  },
  {
   "cell_type": "code",
   "execution_count": null,
   "metadata": {
    "scrolled": false
   },
   "outputs": [],
   "source": [
    "model.evaluate(x_valid, y_valid)"
   ]
  },
  {
   "cell_type": "code",
   "execution_count": null,
   "metadata": {
    "scrolled": false
   },
   "outputs": [],
   "source": [
    "# Confusion matrix\n",
    "prediction = model.predict_classes(x_valid)\n",
    "print(y_valid.shape)\n",
    "y_categories = np.argmax(y_valid, axis=1)\n",
    "pd.crosstab(y_categories, prediction, rownames=[\"label\"], colnames=[\"predict\"])"
   ]
  },
  {
   "cell_type": "code",
   "execution_count": null,
   "metadata": {},
   "outputs": [],
   "source": [
    "prob = model.predict(x_test)\n",
    "y_test = np.argmax(prob, axis=1)"
   ]
  },
  {
   "cell_type": "code",
   "execution_count": null,
   "metadata": {
    "scrolled": true
   },
   "outputs": [],
   "source": [
    "index = 106\n",
    "print(LABEL_MAP[y_test[index]])\n",
    "plt.imshow(x_test[index].reshape(48, 48))\n",
    "plt.show()"
   ]
  },
  {
   "cell_type": "code",
   "execution_count": null,
   "metadata": {},
   "outputs": [],
   "source": [
    "output_prediction(y_test, \"cnn.csv\")"
   ]
  }
 ],
 "metadata": {
  "kernelspec": {
   "display_name": "Python 3",
   "language": "python",
   "name": "python3"
  },
  "language_info": {
   "codemirror_mode": {
    "name": "ipython",
    "version": 3
   },
   "file_extension": ".py",
   "mimetype": "text/x-python",
   "name": "python",
   "nbconvert_exporter": "python",
   "pygments_lexer": "ipython3",
   "version": "3.5.2"
  }
 },
 "nbformat": 4,
 "nbformat_minor": 2
}
